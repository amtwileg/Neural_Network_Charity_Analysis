{
 "cells": [
  {
   "cell_type": "code",
   "execution_count": 1,
   "metadata": {
    "collapsed": true,
    "pycharm": {
     "name": "#%%\n"
    }
   },
   "outputs": [
    {
     "name": "stderr",
     "output_type": "stream",
     "text": [
      "2022-07-24 20:32:24.315228: W tensorflow/stream_executor/platform/default/dso_loader.cc:64] Could not load dynamic library 'libcudart.so.11.0'; dlerror: libcudart.so.11.0: cannot open shared object file: No such file or directory\n",
      "2022-07-24 20:32:24.315256: I tensorflow/stream_executor/cuda/cudart_stub.cc:29] Ignore above cudart dlerror if you do not have a GPU set up on your machine.\n"
     ]
    },
    {
     "data": {
      "text/plain": "        EIN                                      NAME APPLICATION_TYPE  \\\n0  10520599              BLUE KNIGHTS MOTORCYCLE CLUB              T10   \n1  10531628    AMERICAN CHESAPEAKE CLUB CHARITABLE TR               T3   \n2  10547893        ST CLOUD PROFESSIONAL FIREFIGHTERS               T5   \n3  10553066            SOUTHSIDE ATHLETIC ASSOCIATION               T3   \n4  10556103  GENETIC RESEARCH INSTITUTE OF THE DESERT               T3   \n\n        AFFILIATION CLASSIFICATION      USE_CASE  ORGANIZATION  STATUS  \\\n0       Independent          C1000    ProductDev   Association       1   \n1       Independent          C2000  Preservation  Co-operative       1   \n2  CompanySponsored          C3000    ProductDev   Association       1   \n3  CompanySponsored          C2000  Preservation         Trust       1   \n4       Independent          C1000     Heathcare         Trust       1   \n\n      INCOME_AMT SPECIAL_CONSIDERATIONS  ASK_AMT  IS_SUCCESSFUL  \n0              0                      N     5000              1  \n1         1-9999                      N   108590              1  \n2              0                      N     5000              0  \n3    10000-24999                      N     6692              1  \n4  100000-499999                      N   142590              1  ",
      "text/html": "<div>\n<style scoped>\n    .dataframe tbody tr th:only-of-type {\n        vertical-align: middle;\n    }\n\n    .dataframe tbody tr th {\n        vertical-align: top;\n    }\n\n    .dataframe thead th {\n        text-align: right;\n    }\n</style>\n<table border=\"1\" class=\"dataframe\">\n  <thead>\n    <tr style=\"text-align: right;\">\n      <th></th>\n      <th>EIN</th>\n      <th>NAME</th>\n      <th>APPLICATION_TYPE</th>\n      <th>AFFILIATION</th>\n      <th>CLASSIFICATION</th>\n      <th>USE_CASE</th>\n      <th>ORGANIZATION</th>\n      <th>STATUS</th>\n      <th>INCOME_AMT</th>\n      <th>SPECIAL_CONSIDERATIONS</th>\n      <th>ASK_AMT</th>\n      <th>IS_SUCCESSFUL</th>\n    </tr>\n  </thead>\n  <tbody>\n    <tr>\n      <th>0</th>\n      <td>10520599</td>\n      <td>BLUE KNIGHTS MOTORCYCLE CLUB</td>\n      <td>T10</td>\n      <td>Independent</td>\n      <td>C1000</td>\n      <td>ProductDev</td>\n      <td>Association</td>\n      <td>1</td>\n      <td>0</td>\n      <td>N</td>\n      <td>5000</td>\n      <td>1</td>\n    </tr>\n    <tr>\n      <th>1</th>\n      <td>10531628</td>\n      <td>AMERICAN CHESAPEAKE CLUB CHARITABLE TR</td>\n      <td>T3</td>\n      <td>Independent</td>\n      <td>C2000</td>\n      <td>Preservation</td>\n      <td>Co-operative</td>\n      <td>1</td>\n      <td>1-9999</td>\n      <td>N</td>\n      <td>108590</td>\n      <td>1</td>\n    </tr>\n    <tr>\n      <th>2</th>\n      <td>10547893</td>\n      <td>ST CLOUD PROFESSIONAL FIREFIGHTERS</td>\n      <td>T5</td>\n      <td>CompanySponsored</td>\n      <td>C3000</td>\n      <td>ProductDev</td>\n      <td>Association</td>\n      <td>1</td>\n      <td>0</td>\n      <td>N</td>\n      <td>5000</td>\n      <td>0</td>\n    </tr>\n    <tr>\n      <th>3</th>\n      <td>10553066</td>\n      <td>SOUTHSIDE ATHLETIC ASSOCIATION</td>\n      <td>T3</td>\n      <td>CompanySponsored</td>\n      <td>C2000</td>\n      <td>Preservation</td>\n      <td>Trust</td>\n      <td>1</td>\n      <td>10000-24999</td>\n      <td>N</td>\n      <td>6692</td>\n      <td>1</td>\n    </tr>\n    <tr>\n      <th>4</th>\n      <td>10556103</td>\n      <td>GENETIC RESEARCH INSTITUTE OF THE DESERT</td>\n      <td>T3</td>\n      <td>Independent</td>\n      <td>C1000</td>\n      <td>Heathcare</td>\n      <td>Trust</td>\n      <td>1</td>\n      <td>100000-499999</td>\n      <td>N</td>\n      <td>142590</td>\n      <td>1</td>\n    </tr>\n  </tbody>\n</table>\n</div>"
     },
     "execution_count": 1,
     "metadata": {},
     "output_type": "execute_result"
    }
   ],
   "source": [
    "# Import our dependencies\n",
    "from sklearn.model_selection import train_test_split\n",
    "from sklearn.preprocessing import StandardScaler,OneHotEncoder\n",
    "import pandas as pd\n",
    "import tensorflow as tf\n",
    "\n",
    "#  Import and read the charity_data.csv.\n",
    "import pandas as pd\n",
    "application_df = pd.read_csv(\"charity_data.csv\")\n",
    "application_df.head()"
   ]
  },
  {
   "cell_type": "code",
   "execution_count": 2,
   "outputs": [],
   "source": [
    "# Drop the non-beneficial ID columns, 'EIN' and 'NAME'.\n",
    "application_df = application_df.drop(columns=['EIN', 'NAME'])"
   ],
   "metadata": {
    "collapsed": false,
    "pycharm": {
     "name": "#%%\n"
    }
   }
  },
  {
   "cell_type": "code",
   "execution_count": 3,
   "outputs": [
    {
     "data": {
      "text/plain": "T3       27037\nT4        1542\nT6        1216\nT5        1173\nT19       1065\nT8         737\nT7         725\nT10        528\nOther      276\nName: APPLICATION_TYPE, dtype: int64"
     },
     "execution_count": 3,
     "metadata": {},
     "output_type": "execute_result"
    }
   ],
   "source": [
    "# Determine which values to replace if counts are less than ...? 156\n",
    "replace_application = ['T9', 'T13', 'T12', 'T2', 'T25', 'T14', 'T29' , 'T15', 'T17']\n",
    "\n",
    "# Replace in dataframe\n",
    "for app in replace_application:\n",
    "    application_df.APPLICATION_TYPE = application_df.APPLICATION_TYPE.replace(app,\"Other\")\n",
    "\n",
    "# Check to make sure binning was successful\n",
    "application_df.APPLICATION_TYPE.value_counts()"
   ],
   "metadata": {
    "collapsed": false,
    "pycharm": {
     "name": "#%%\n"
    }
   }
  },
  {
   "cell_type": "code",
   "execution_count": 4,
   "outputs": [
    {
     "data": {
      "text/plain": "C1000    17326\nC2000     6074\nC1200     4837\nOther     2261\nC3000     1918\nC2100     1883\nName: CLASSIFICATION, dtype: int64"
     },
     "execution_count": 4,
     "metadata": {},
     "output_type": "execute_result"
    }
   ],
   "source": [
    "# Determine which values to replace if counts are less than ..? 1883\n",
    "replace_class = application_df.CLASSIFICATION.value_counts()[application_df.CLASSIFICATION.value_counts() < 1883].index\n",
    "\n",
    "# Replace in dataframe\n",
    "for cls in replace_class:\n",
    "    application_df.CLASSIFICATION = application_df.CLASSIFICATION.replace(cls,\"Other\")\n",
    "\n",
    "# Check to make sure binning was successful\n",
    "application_df.CLASSIFICATION.value_counts()"
   ],
   "metadata": {
    "collapsed": false,
    "pycharm": {
     "name": "#%%\n"
    }
   }
  },
  {
   "cell_type": "code",
   "execution_count": 5,
   "outputs": [],
   "source": [
    "# Generate our categorical variable lists\n",
    "categorical_variables = ['APPLICATION_TYPE', 'AFFILIATION', 'CLASSIFICATION', 'USE_CASE', 'ORGANIZATION', 'INCOME_AMT', 'SPECIAL_CONSIDERATIONS']\n",
    "application_cat = application_df[categorical_variables]"
   ],
   "metadata": {
    "collapsed": false,
    "pycharm": {
     "name": "#%%\n"
    }
   }
  },
  {
   "cell_type": "code",
   "execution_count": 6,
   "outputs": [
    {
     "name": "stderr",
     "output_type": "stream",
     "text": [
      "/home/andrew/tutor/module19/venv/lib/python3.8/site-packages/sklearn/utils/deprecation.py:87: FutureWarning: Function get_feature_names is deprecated; get_feature_names is deprecated in 1.0 and will be removed in 1.2. Please use get_feature_names_out instead.\n",
      "  warnings.warn(msg, category=FutureWarning)\n"
     ]
    },
    {
     "data": {
      "text/plain": "   APPLICATION_TYPE_Other  APPLICATION_TYPE_T10  APPLICATION_TYPE_T19  \\\n0                     0.0                   1.0                   0.0   \n1                     0.0                   0.0                   0.0   \n2                     0.0                   0.0                   0.0   \n3                     0.0                   0.0                   0.0   \n4                     0.0                   0.0                   0.0   \n\n   APPLICATION_TYPE_T3  APPLICATION_TYPE_T4  APPLICATION_TYPE_T5  \\\n0                  0.0                  0.0                  0.0   \n1                  1.0                  0.0                  0.0   \n2                  0.0                  0.0                  1.0   \n3                  1.0                  0.0                  0.0   \n4                  1.0                  0.0                  0.0   \n\n   APPLICATION_TYPE_T6  APPLICATION_TYPE_T7  APPLICATION_TYPE_T8  \\\n0                  0.0                  0.0                  0.0   \n1                  0.0                  0.0                  0.0   \n2                  0.0                  0.0                  0.0   \n3                  0.0                  0.0                  0.0   \n4                  0.0                  0.0                  0.0   \n\n   AFFILIATION_CompanySponsored  ...  INCOME_AMT_1-9999  \\\n0                           0.0  ...                0.0   \n1                           0.0  ...                1.0   \n2                           1.0  ...                0.0   \n3                           1.0  ...                0.0   \n4                           0.0  ...                0.0   \n\n   INCOME_AMT_10000-24999  INCOME_AMT_100000-499999  INCOME_AMT_10M-50M  \\\n0                     0.0                       0.0                 0.0   \n1                     0.0                       0.0                 0.0   \n2                     0.0                       0.0                 0.0   \n3                     1.0                       0.0                 0.0   \n4                     0.0                       1.0                 0.0   \n\n   INCOME_AMT_1M-5M  INCOME_AMT_25000-99999  INCOME_AMT_50M+  \\\n0               0.0                     0.0              0.0   \n1               0.0                     0.0              0.0   \n2               0.0                     0.0              0.0   \n3               0.0                     0.0              0.0   \n4               0.0                     0.0              0.0   \n\n   INCOME_AMT_5M-10M  SPECIAL_CONSIDERATIONS_N  SPECIAL_CONSIDERATIONS_Y  \n0                0.0                       1.0                       0.0  \n1                0.0                       1.0                       0.0  \n2                0.0                       1.0                       0.0  \n3                0.0                       1.0                       0.0  \n4                0.0                       1.0                       0.0  \n\n[5 rows x 41 columns]",
      "text/html": "<div>\n<style scoped>\n    .dataframe tbody tr th:only-of-type {\n        vertical-align: middle;\n    }\n\n    .dataframe tbody tr th {\n        vertical-align: top;\n    }\n\n    .dataframe thead th {\n        text-align: right;\n    }\n</style>\n<table border=\"1\" class=\"dataframe\">\n  <thead>\n    <tr style=\"text-align: right;\">\n      <th></th>\n      <th>APPLICATION_TYPE_Other</th>\n      <th>APPLICATION_TYPE_T10</th>\n      <th>APPLICATION_TYPE_T19</th>\n      <th>APPLICATION_TYPE_T3</th>\n      <th>APPLICATION_TYPE_T4</th>\n      <th>APPLICATION_TYPE_T5</th>\n      <th>APPLICATION_TYPE_T6</th>\n      <th>APPLICATION_TYPE_T7</th>\n      <th>APPLICATION_TYPE_T8</th>\n      <th>AFFILIATION_CompanySponsored</th>\n      <th>...</th>\n      <th>INCOME_AMT_1-9999</th>\n      <th>INCOME_AMT_10000-24999</th>\n      <th>INCOME_AMT_100000-499999</th>\n      <th>INCOME_AMT_10M-50M</th>\n      <th>INCOME_AMT_1M-5M</th>\n      <th>INCOME_AMT_25000-99999</th>\n      <th>INCOME_AMT_50M+</th>\n      <th>INCOME_AMT_5M-10M</th>\n      <th>SPECIAL_CONSIDERATIONS_N</th>\n      <th>SPECIAL_CONSIDERATIONS_Y</th>\n    </tr>\n  </thead>\n  <tbody>\n    <tr>\n      <th>0</th>\n      <td>0.0</td>\n      <td>1.0</td>\n      <td>0.0</td>\n      <td>0.0</td>\n      <td>0.0</td>\n      <td>0.0</td>\n      <td>0.0</td>\n      <td>0.0</td>\n      <td>0.0</td>\n      <td>0.0</td>\n      <td>...</td>\n      <td>0.0</td>\n      <td>0.0</td>\n      <td>0.0</td>\n      <td>0.0</td>\n      <td>0.0</td>\n      <td>0.0</td>\n      <td>0.0</td>\n      <td>0.0</td>\n      <td>1.0</td>\n      <td>0.0</td>\n    </tr>\n    <tr>\n      <th>1</th>\n      <td>0.0</td>\n      <td>0.0</td>\n      <td>0.0</td>\n      <td>1.0</td>\n      <td>0.0</td>\n      <td>0.0</td>\n      <td>0.0</td>\n      <td>0.0</td>\n      <td>0.0</td>\n      <td>0.0</td>\n      <td>...</td>\n      <td>1.0</td>\n      <td>0.0</td>\n      <td>0.0</td>\n      <td>0.0</td>\n      <td>0.0</td>\n      <td>0.0</td>\n      <td>0.0</td>\n      <td>0.0</td>\n      <td>1.0</td>\n      <td>0.0</td>\n    </tr>\n    <tr>\n      <th>2</th>\n      <td>0.0</td>\n      <td>0.0</td>\n      <td>0.0</td>\n      <td>0.0</td>\n      <td>0.0</td>\n      <td>1.0</td>\n      <td>0.0</td>\n      <td>0.0</td>\n      <td>0.0</td>\n      <td>1.0</td>\n      <td>...</td>\n      <td>0.0</td>\n      <td>0.0</td>\n      <td>0.0</td>\n      <td>0.0</td>\n      <td>0.0</td>\n      <td>0.0</td>\n      <td>0.0</td>\n      <td>0.0</td>\n      <td>1.0</td>\n      <td>0.0</td>\n    </tr>\n    <tr>\n      <th>3</th>\n      <td>0.0</td>\n      <td>0.0</td>\n      <td>0.0</td>\n      <td>1.0</td>\n      <td>0.0</td>\n      <td>0.0</td>\n      <td>0.0</td>\n      <td>0.0</td>\n      <td>0.0</td>\n      <td>1.0</td>\n      <td>...</td>\n      <td>0.0</td>\n      <td>1.0</td>\n      <td>0.0</td>\n      <td>0.0</td>\n      <td>0.0</td>\n      <td>0.0</td>\n      <td>0.0</td>\n      <td>0.0</td>\n      <td>1.0</td>\n      <td>0.0</td>\n    </tr>\n    <tr>\n      <th>4</th>\n      <td>0.0</td>\n      <td>0.0</td>\n      <td>0.0</td>\n      <td>1.0</td>\n      <td>0.0</td>\n      <td>0.0</td>\n      <td>0.0</td>\n      <td>0.0</td>\n      <td>0.0</td>\n      <td>0.0</td>\n      <td>...</td>\n      <td>0.0</td>\n      <td>0.0</td>\n      <td>1.0</td>\n      <td>0.0</td>\n      <td>0.0</td>\n      <td>0.0</td>\n      <td>0.0</td>\n      <td>0.0</td>\n      <td>1.0</td>\n      <td>0.0</td>\n    </tr>\n  </tbody>\n</table>\n<p>5 rows × 41 columns</p>\n</div>"
     },
     "execution_count": 6,
     "metadata": {},
     "output_type": "execute_result"
    }
   ],
   "source": [
    "# Create a OneHotEncoder instance\n",
    "enc = OneHotEncoder(sparse=False)\n",
    "\n",
    "# Fit and transform the OneHotEncoder using the categorical variable list\n",
    "encode_df = pd.DataFrame(enc.fit_transform(application_cat))\n",
    "\n",
    "# Add the encoded variable names to the dataframe\n",
    "encode_df.columns = enc.get_feature_names(categorical_variables)\n",
    "encode_df.head()"
   ],
   "metadata": {
    "collapsed": false,
    "pycharm": {
     "name": "#%%\n"
    }
   }
  },
  {
   "cell_type": "code",
   "execution_count": 7,
   "outputs": [
    {
     "data": {
      "text/plain": "   STATUS  ASK_AMT  IS_SUCCESSFUL  APPLICATION_TYPE_Other  \\\n0       1     5000              1                     0.0   \n1       1   108590              1                     0.0   \n2       1     5000              0                     0.0   \n3       1     6692              1                     0.0   \n4       1   142590              1                     0.0   \n\n   APPLICATION_TYPE_T10  APPLICATION_TYPE_T19  APPLICATION_TYPE_T3  \\\n0                   1.0                   0.0                  0.0   \n1                   0.0                   0.0                  1.0   \n2                   0.0                   0.0                  0.0   \n3                   0.0                   0.0                  1.0   \n4                   0.0                   0.0                  1.0   \n\n   APPLICATION_TYPE_T4  APPLICATION_TYPE_T5  APPLICATION_TYPE_T6  ...  \\\n0                  0.0                  0.0                  0.0  ...   \n1                  0.0                  0.0                  0.0  ...   \n2                  0.0                  1.0                  0.0  ...   \n3                  0.0                  0.0                  0.0  ...   \n4                  0.0                  0.0                  0.0  ...   \n\n   INCOME_AMT_1-9999  INCOME_AMT_10000-24999  INCOME_AMT_100000-499999  \\\n0                0.0                     0.0                       0.0   \n1                1.0                     0.0                       0.0   \n2                0.0                     0.0                       0.0   \n3                0.0                     1.0                       0.0   \n4                0.0                     0.0                       1.0   \n\n   INCOME_AMT_10M-50M  INCOME_AMT_1M-5M  INCOME_AMT_25000-99999  \\\n0                 0.0               0.0                     0.0   \n1                 0.0               0.0                     0.0   \n2                 0.0               0.0                     0.0   \n3                 0.0               0.0                     0.0   \n4                 0.0               0.0                     0.0   \n\n   INCOME_AMT_50M+  INCOME_AMT_5M-10M  SPECIAL_CONSIDERATIONS_N  \\\n0              0.0                0.0                       1.0   \n1              0.0                0.0                       1.0   \n2              0.0                0.0                       1.0   \n3              0.0                0.0                       1.0   \n4              0.0                0.0                       1.0   \n\n   SPECIAL_CONSIDERATIONS_Y  \n0                       0.0  \n1                       0.0  \n2                       0.0  \n3                       0.0  \n4                       0.0  \n\n[5 rows x 44 columns]",
      "text/html": "<div>\n<style scoped>\n    .dataframe tbody tr th:only-of-type {\n        vertical-align: middle;\n    }\n\n    .dataframe tbody tr th {\n        vertical-align: top;\n    }\n\n    .dataframe thead th {\n        text-align: right;\n    }\n</style>\n<table border=\"1\" class=\"dataframe\">\n  <thead>\n    <tr style=\"text-align: right;\">\n      <th></th>\n      <th>STATUS</th>\n      <th>ASK_AMT</th>\n      <th>IS_SUCCESSFUL</th>\n      <th>APPLICATION_TYPE_Other</th>\n      <th>APPLICATION_TYPE_T10</th>\n      <th>APPLICATION_TYPE_T19</th>\n      <th>APPLICATION_TYPE_T3</th>\n      <th>APPLICATION_TYPE_T4</th>\n      <th>APPLICATION_TYPE_T5</th>\n      <th>APPLICATION_TYPE_T6</th>\n      <th>...</th>\n      <th>INCOME_AMT_1-9999</th>\n      <th>INCOME_AMT_10000-24999</th>\n      <th>INCOME_AMT_100000-499999</th>\n      <th>INCOME_AMT_10M-50M</th>\n      <th>INCOME_AMT_1M-5M</th>\n      <th>INCOME_AMT_25000-99999</th>\n      <th>INCOME_AMT_50M+</th>\n      <th>INCOME_AMT_5M-10M</th>\n      <th>SPECIAL_CONSIDERATIONS_N</th>\n      <th>SPECIAL_CONSIDERATIONS_Y</th>\n    </tr>\n  </thead>\n  <tbody>\n    <tr>\n      <th>0</th>\n      <td>1</td>\n      <td>5000</td>\n      <td>1</td>\n      <td>0.0</td>\n      <td>1.0</td>\n      <td>0.0</td>\n      <td>0.0</td>\n      <td>0.0</td>\n      <td>0.0</td>\n      <td>0.0</td>\n      <td>...</td>\n      <td>0.0</td>\n      <td>0.0</td>\n      <td>0.0</td>\n      <td>0.0</td>\n      <td>0.0</td>\n      <td>0.0</td>\n      <td>0.0</td>\n      <td>0.0</td>\n      <td>1.0</td>\n      <td>0.0</td>\n    </tr>\n    <tr>\n      <th>1</th>\n      <td>1</td>\n      <td>108590</td>\n      <td>1</td>\n      <td>0.0</td>\n      <td>0.0</td>\n      <td>0.0</td>\n      <td>1.0</td>\n      <td>0.0</td>\n      <td>0.0</td>\n      <td>0.0</td>\n      <td>...</td>\n      <td>1.0</td>\n      <td>0.0</td>\n      <td>0.0</td>\n      <td>0.0</td>\n      <td>0.0</td>\n      <td>0.0</td>\n      <td>0.0</td>\n      <td>0.0</td>\n      <td>1.0</td>\n      <td>0.0</td>\n    </tr>\n    <tr>\n      <th>2</th>\n      <td>1</td>\n      <td>5000</td>\n      <td>0</td>\n      <td>0.0</td>\n      <td>0.0</td>\n      <td>0.0</td>\n      <td>0.0</td>\n      <td>0.0</td>\n      <td>1.0</td>\n      <td>0.0</td>\n      <td>...</td>\n      <td>0.0</td>\n      <td>0.0</td>\n      <td>0.0</td>\n      <td>0.0</td>\n      <td>0.0</td>\n      <td>0.0</td>\n      <td>0.0</td>\n      <td>0.0</td>\n      <td>1.0</td>\n      <td>0.0</td>\n    </tr>\n    <tr>\n      <th>3</th>\n      <td>1</td>\n      <td>6692</td>\n      <td>1</td>\n      <td>0.0</td>\n      <td>0.0</td>\n      <td>0.0</td>\n      <td>1.0</td>\n      <td>0.0</td>\n      <td>0.0</td>\n      <td>0.0</td>\n      <td>...</td>\n      <td>0.0</td>\n      <td>1.0</td>\n      <td>0.0</td>\n      <td>0.0</td>\n      <td>0.0</td>\n      <td>0.0</td>\n      <td>0.0</td>\n      <td>0.0</td>\n      <td>1.0</td>\n      <td>0.0</td>\n    </tr>\n    <tr>\n      <th>4</th>\n      <td>1</td>\n      <td>142590</td>\n      <td>1</td>\n      <td>0.0</td>\n      <td>0.0</td>\n      <td>0.0</td>\n      <td>1.0</td>\n      <td>0.0</td>\n      <td>0.0</td>\n      <td>0.0</td>\n      <td>...</td>\n      <td>0.0</td>\n      <td>0.0</td>\n      <td>1.0</td>\n      <td>0.0</td>\n      <td>0.0</td>\n      <td>0.0</td>\n      <td>0.0</td>\n      <td>0.0</td>\n      <td>1.0</td>\n      <td>0.0</td>\n    </tr>\n  </tbody>\n</table>\n<p>5 rows × 44 columns</p>\n</div>"
     },
     "execution_count": 7,
     "metadata": {},
     "output_type": "execute_result"
    }
   ],
   "source": [
    "# Merge one-hot encoded features and drop the originals\n",
    "df = application_df.merge(encode_df, left_index=True, right_index=True).drop(columns=categorical_variables)\n",
    "df.head()"
   ],
   "metadata": {
    "collapsed": false,
    "pycharm": {
     "name": "#%%\n"
    }
   }
  },
  {
   "cell_type": "code",
   "execution_count": 8,
   "outputs": [],
   "source": [
    "# Split our preprocessed data into our features and target arrays\n",
    "y = df.IS_SUCCESSFUL.values.reshape(-1, 1)\n",
    "X = df.drop(columns=['IS_SUCCESSFUL']).values\n",
    "\n",
    "# Split the preprocessed data into a training and testing dataset\n",
    "X_train, X_test, y_train, y_test = train_test_split(X, y)"
   ],
   "metadata": {
    "collapsed": false,
    "pycharm": {
     "name": "#%%\n"
    }
   }
  },
  {
   "cell_type": "code",
   "execution_count": 9,
   "outputs": [],
   "source": [
    "# Create a StandardScaler instances\n",
    "scaler = StandardScaler()\n",
    "\n",
    "# Fit the StandardScaler\n",
    "X_scaler = scaler.fit(X_train)\n",
    "\n",
    "# Scale the data\n",
    "X_train_scaled = X_scaler.transform(X_train)\n",
    "X_test_scaled = X_scaler.transform(X_test)"
   ],
   "metadata": {
    "collapsed": false,
    "pycharm": {
     "name": "#%%\n"
    }
   }
  },
  {
   "cell_type": "code",
   "execution_count": 10,
   "outputs": [
    {
     "name": "stdout",
     "output_type": "stream",
     "text": [
      "WARNING:tensorflow:`period` argument is deprecated. Please use `save_freq` to specify the frequency in number of batches seen.\n"
     ]
    }
   ],
   "source": [
    "import os\n",
    "os.makedirs(\"checkpoints/\",exist_ok=True)\n",
    "checkpoint_path = \"checkpoints/weights.{epoch:02d}.hdf5\"\n",
    "\n",
    "from tensorflow.keras.callbacks import ModelCheckpoint\n",
    "cp_callback = ModelCheckpoint(\n",
    "    filepath=checkpoint_path,\n",
    "    verbose=1,\n",
    "    save_weights_only=True,\n",
    "    save_freq='epoch',\n",
    "period=5)"
   ],
   "metadata": {
    "collapsed": false,
    "pycharm": {
     "name": "#%%\n"
    }
   }
  },
  {
   "cell_type": "markdown",
   "source": [
    "### Attempt #1: Add dropout, increase hidden nodes to 64, change activation to leaky relu\n"
   ],
   "metadata": {
    "collapsed": false,
    "pycharm": {
     "name": "#%% md\n"
    }
   }
  },
  {
   "cell_type": "code",
   "execution_count": 11,
   "outputs": [
    {
     "name": "stdout",
     "output_type": "stream",
     "text": [
      "Model: \"sequential\"\n",
      "_________________________________________________________________\n",
      " Layer (type)                Output Shape              Param #   \n",
      "=================================================================\n",
      " dense (Dense)               (None, 64)                2816      \n",
      "                                                                 \n",
      " dropout (Dropout)           (None, 64)                0         \n",
      "                                                                 \n",
      " dense_1 (Dense)             (None, 64)                4160      \n",
      "                                                                 \n",
      " dropout_1 (Dropout)         (None, 64)                0         \n",
      "                                                                 \n",
      " dense_2 (Dense)             (None, 1)                 65        \n",
      "                                                                 \n",
      "=================================================================\n",
      "Total params: 7,041\n",
      "Trainable params: 7,041\n",
      "Non-trainable params: 0\n",
      "_________________________________________________________________\n",
      "Epoch 1/100\n"
     ]
    },
    {
     "name": "stderr",
     "output_type": "stream",
     "text": [
      "2022-07-24 20:32:25.766502: E tensorflow/stream_executor/cuda/cuda_driver.cc:271] failed call to cuInit: CUDA_ERROR_INVALID_DEVICE: invalid device ordinal\n",
      "2022-07-24 20:32:25.766529: I tensorflow/stream_executor/cuda/cuda_diagnostics.cc:169] retrieving CUDA diagnostic information for host: dajan\n",
      "2022-07-24 20:32:25.766534: I tensorflow/stream_executor/cuda/cuda_diagnostics.cc:176] hostname: dajan\n",
      "2022-07-24 20:32:25.766636: I tensorflow/stream_executor/cuda/cuda_diagnostics.cc:200] libcuda reported version is: 470.129.6\n",
      "2022-07-24 20:32:25.766655: I tensorflow/stream_executor/cuda/cuda_diagnostics.cc:204] kernel reported version is: 470.129.6\n",
      "2022-07-24 20:32:25.766659: I tensorflow/stream_executor/cuda/cuda_diagnostics.cc:310] kernel version seems to match DSO: 470.129.6\n",
      "2022-07-24 20:32:25.767040: I tensorflow/core/platform/cpu_feature_guard.cc:193] This TensorFlow binary is optimized with oneAPI Deep Neural Network Library (oneDNN) to use the following CPU instructions in performance-critical operations:  AVX2 FMA\n",
      "To enable them in other operations, rebuild TensorFlow with the appropriate compiler flags.\n"
     ]
    },
    {
     "name": "stdout",
     "output_type": "stream",
     "text": [
      "804/804 [==============================] - 1s 841us/step - loss: 0.6307 - accuracy: 0.6826\n",
      "Epoch 2/100\n",
      "804/804 [==============================] - 1s 770us/step - loss: 0.5888 - accuracy: 0.7163\n",
      "Epoch 3/100\n",
      "804/804 [==============================] - 1s 751us/step - loss: 0.5802 - accuracy: 0.7212\n",
      "Epoch 4/100\n",
      "804/804 [==============================] - 1s 880us/step - loss: 0.5736 - accuracy: 0.7221\n",
      "Epoch 5/100\n",
      "799/804 [============================>.] - ETA: 0s - loss: 0.5684 - accuracy: 0.7252\n",
      "Epoch 5: saving model to checkpoints/weights.05.hdf5\n",
      "804/804 [==============================] - 1s 766us/step - loss: 0.5689 - accuracy: 0.7248\n",
      "Epoch 6/100\n",
      "804/804 [==============================] - 1s 751us/step - loss: 0.5683 - accuracy: 0.7261\n",
      "Epoch 7/100\n",
      "804/804 [==============================] - 1s 776us/step - loss: 0.5653 - accuracy: 0.7275\n",
      "Epoch 8/100\n",
      "804/804 [==============================] - 1s 723us/step - loss: 0.5657 - accuracy: 0.7259\n",
      "Epoch 9/100\n",
      "804/804 [==============================] - 1s 740us/step - loss: 0.5642 - accuracy: 0.7294\n",
      "Epoch 10/100\n",
      "804/804 [==============================] - ETA: 0s - loss: 0.5627 - accuracy: 0.7280\n",
      "Epoch 10: saving model to checkpoints/weights.10.hdf5\n",
      "804/804 [==============================] - 1s 760us/step - loss: 0.5627 - accuracy: 0.7280\n",
      "Epoch 11/100\n",
      "804/804 [==============================] - 1s 727us/step - loss: 0.5613 - accuracy: 0.7287\n",
      "Epoch 12/100\n",
      "804/804 [==============================] - 1s 757us/step - loss: 0.5619 - accuracy: 0.7275\n",
      "Epoch 13/100\n",
      "804/804 [==============================] - 1s 769us/step - loss: 0.5599 - accuracy: 0.7295\n",
      "Epoch 14/100\n",
      "804/804 [==============================] - 1s 762us/step - loss: 0.5610 - accuracy: 0.7280\n",
      "Epoch 15/100\n",
      "788/804 [============================>.] - ETA: 0s - loss: 0.5604 - accuracy: 0.7281\n",
      "Epoch 15: saving model to checkpoints/weights.15.hdf5\n",
      "804/804 [==============================] - 1s 973us/step - loss: 0.5608 - accuracy: 0.7278\n",
      "Epoch 16/100\n",
      "804/804 [==============================] - 1s 810us/step - loss: 0.5594 - accuracy: 0.7296\n",
      "Epoch 17/100\n",
      "804/804 [==============================] - 1s 759us/step - loss: 0.5601 - accuracy: 0.7284\n",
      "Epoch 18/100\n",
      "804/804 [==============================] - 1s 743us/step - loss: 0.5594 - accuracy: 0.7289\n",
      "Epoch 19/100\n",
      "804/804 [==============================] - 1s 795us/step - loss: 0.5566 - accuracy: 0.7282\n",
      "Epoch 20/100\n",
      "768/804 [===========================>..] - ETA: 0s - loss: 0.5602 - accuracy: 0.7300\n",
      "Epoch 20: saving model to checkpoints/weights.20.hdf5\n",
      "804/804 [==============================] - 1s 733us/step - loss: 0.5594 - accuracy: 0.7303\n",
      "Epoch 21/100\n",
      "804/804 [==============================] - 1s 965us/step - loss: 0.5588 - accuracy: 0.7291\n",
      "Epoch 22/100\n",
      "804/804 [==============================] - 1s 760us/step - loss: 0.5578 - accuracy: 0.7299\n",
      "Epoch 23/100\n",
      "804/804 [==============================] - 1s 718us/step - loss: 0.5569 - accuracy: 0.7311\n",
      "Epoch 24/100\n",
      "804/804 [==============================] - 1s 793us/step - loss: 0.5565 - accuracy: 0.7305\n",
      "Epoch 25/100\n",
      "735/804 [==========================>...] - ETA: 0s - loss: 0.5563 - accuracy: 0.7301\n",
      "Epoch 25: saving model to checkpoints/weights.25.hdf5\n",
      "804/804 [==============================] - 1s 884us/step - loss: 0.5569 - accuracy: 0.7288\n",
      "Epoch 26/100\n",
      "804/804 [==============================] - 1s 732us/step - loss: 0.5569 - accuracy: 0.7289\n",
      "Epoch 27/100\n",
      "804/804 [==============================] - 1s 869us/step - loss: 0.5569 - accuracy: 0.7303\n",
      "Epoch 28/100\n",
      "804/804 [==============================] - 1s 728us/step - loss: 0.5559 - accuracy: 0.7292\n",
      "Epoch 29/100\n",
      "804/804 [==============================] - 1s 1ms/step - loss: 0.5571 - accuracy: 0.7284\n",
      "Epoch 30/100\n",
      "767/804 [===========================>..] - ETA: 0s - loss: 0.5552 - accuracy: 0.7308\n",
      "Epoch 30: saving model to checkpoints/weights.30.hdf5\n",
      "804/804 [==============================] - 1s 1ms/step - loss: 0.5551 - accuracy: 0.7303\n",
      "Epoch 31/100\n",
      "804/804 [==============================] - 1s 801us/step - loss: 0.5555 - accuracy: 0.7300\n",
      "Epoch 32/100\n",
      "804/804 [==============================] - 1s 759us/step - loss: 0.5558 - accuracy: 0.7296\n",
      "Epoch 33/100\n",
      "804/804 [==============================] - 1s 739us/step - loss: 0.5549 - accuracy: 0.7307\n",
      "Epoch 34/100\n",
      "804/804 [==============================] - 1s 853us/step - loss: 0.5559 - accuracy: 0.7299\n",
      "Epoch 35/100\n",
      "804/804 [==============================] - ETA: 0s - loss: 0.5557 - accuracy: 0.7320\n",
      "Epoch 35: saving model to checkpoints/weights.35.hdf5\n",
      "804/804 [==============================] - 1s 762us/step - loss: 0.5557 - accuracy: 0.7320\n",
      "Epoch 36/100\n",
      "804/804 [==============================] - 1s 737us/step - loss: 0.5562 - accuracy: 0.7295\n",
      "Epoch 37/100\n",
      "804/804 [==============================] - 1s 770us/step - loss: 0.5552 - accuracy: 0.7315\n",
      "Epoch 38/100\n",
      "804/804 [==============================] - 1s 838us/step - loss: 0.5560 - accuracy: 0.7299\n",
      "Epoch 39/100\n",
      "804/804 [==============================] - 1s 876us/step - loss: 0.5548 - accuracy: 0.7317\n",
      "Epoch 40/100\n",
      "794/804 [============================>.] - ETA: 0s - loss: 0.5549 - accuracy: 0.7312\n",
      "Epoch 40: saving model to checkpoints/weights.40.hdf5\n",
      "804/804 [==============================] - 1s 771us/step - loss: 0.5547 - accuracy: 0.7315\n",
      "Epoch 41/100\n",
      "804/804 [==============================] - 1s 809us/step - loss: 0.5536 - accuracy: 0.7327\n",
      "Epoch 42/100\n",
      "804/804 [==============================] - 1s 947us/step - loss: 0.5546 - accuracy: 0.7311\n",
      "Epoch 43/100\n",
      "804/804 [==============================] - 1s 921us/step - loss: 0.5557 - accuracy: 0.7289\n",
      "Epoch 44/100\n",
      "804/804 [==============================] - 1s 962us/step - loss: 0.5546 - accuracy: 0.7303\n",
      "Epoch 45/100\n",
      "737/804 [==========================>...] - ETA: 0s - loss: 0.5560 - accuracy: 0.7301\n",
      "Epoch 45: saving model to checkpoints/weights.45.hdf5\n",
      "804/804 [==============================] - 1s 759us/step - loss: 0.5544 - accuracy: 0.7314\n",
      "Epoch 46/100\n",
      "804/804 [==============================] - 1s 858us/step - loss: 0.5534 - accuracy: 0.7300\n",
      "Epoch 47/100\n",
      "804/804 [==============================] - 1s 782us/step - loss: 0.5548 - accuracy: 0.7317\n",
      "Epoch 48/100\n",
      "804/804 [==============================] - 1s 745us/step - loss: 0.5540 - accuracy: 0.7310\n",
      "Epoch 49/100\n",
      "804/804 [==============================] - 1s 775us/step - loss: 0.5533 - accuracy: 0.7313\n",
      "Epoch 50/100\n",
      "740/804 [==========================>...] - ETA: 0s - loss: 0.5550 - accuracy: 0.7307\n",
      "Epoch 50: saving model to checkpoints/weights.50.hdf5\n",
      "804/804 [==============================] - 1s 755us/step - loss: 0.5556 - accuracy: 0.7303\n",
      "Epoch 51/100\n",
      "804/804 [==============================] - 1s 757us/step - loss: 0.5553 - accuracy: 0.7302\n",
      "Epoch 52/100\n",
      "804/804 [==============================] - 1s 767us/step - loss: 0.5542 - accuracy: 0.7310\n",
      "Epoch 53/100\n",
      "804/804 [==============================] - 1s 750us/step - loss: 0.5537 - accuracy: 0.7310\n",
      "Epoch 54/100\n",
      "804/804 [==============================] - 1s 751us/step - loss: 0.5538 - accuracy: 0.7301\n",
      "Epoch 55/100\n",
      "747/804 [==========================>...] - ETA: 0s - loss: 0.5535 - accuracy: 0.7316\n",
      "Epoch 55: saving model to checkpoints/weights.55.hdf5\n",
      "804/804 [==============================] - 1s 746us/step - loss: 0.5529 - accuracy: 0.7322\n",
      "Epoch 56/100\n",
      "804/804 [==============================] - 1s 780us/step - loss: 0.5531 - accuracy: 0.7300\n",
      "Epoch 57/100\n",
      "804/804 [==============================] - 1s 754us/step - loss: 0.5530 - accuracy: 0.7322\n",
      "Epoch 58/100\n",
      "804/804 [==============================] - 1s 749us/step - loss: 0.5546 - accuracy: 0.7307\n",
      "Epoch 59/100\n",
      "804/804 [==============================] - 1s 745us/step - loss: 0.5531 - accuracy: 0.7320\n",
      "Epoch 60/100\n",
      "759/804 [===========================>..] - ETA: 0s - loss: 0.5550 - accuracy: 0.7292\n",
      "Epoch 60: saving model to checkpoints/weights.60.hdf5\n",
      "804/804 [==============================] - 1s 740us/step - loss: 0.5533 - accuracy: 0.7304\n",
      "Epoch 61/100\n",
      "804/804 [==============================] - 1s 748us/step - loss: 0.5547 - accuracy: 0.7309\n",
      "Epoch 62/100\n",
      "804/804 [==============================] - 1s 721us/step - loss: 0.5534 - accuracy: 0.7305\n",
      "Epoch 63/100\n",
      "804/804 [==============================] - 1s 747us/step - loss: 0.5532 - accuracy: 0.7295\n",
      "Epoch 64/100\n",
      "804/804 [==============================] - 1s 789us/step - loss: 0.5531 - accuracy: 0.7318\n",
      "Epoch 65/100\n",
      "753/804 [===========================>..] - ETA: 0s - loss: 0.5534 - accuracy: 0.7300\n",
      "Epoch 65: saving model to checkpoints/weights.65.hdf5\n",
      "804/804 [==============================] - 1s 741us/step - loss: 0.5543 - accuracy: 0.7298\n",
      "Epoch 66/100\n",
      "804/804 [==============================] - 1s 727us/step - loss: 0.5534 - accuracy: 0.7308\n",
      "Epoch 67/100\n",
      "804/804 [==============================] - 1s 763us/step - loss: 0.5540 - accuracy: 0.7317\n",
      "Epoch 68/100\n",
      "804/804 [==============================] - 1s 825us/step - loss: 0.5535 - accuracy: 0.7318\n",
      "Epoch 69/100\n",
      "804/804 [==============================] - 1s 780us/step - loss: 0.5525 - accuracy: 0.7309\n",
      "Epoch 70/100\n",
      "779/804 [============================>.] - ETA: 0s - loss: 0.5527 - accuracy: 0.7314\n",
      "Epoch 70: saving model to checkpoints/weights.70.hdf5\n",
      "804/804 [==============================] - 1s 919us/step - loss: 0.5529 - accuracy: 0.7312\n",
      "Epoch 71/100\n",
      "804/804 [==============================] - 1s 865us/step - loss: 0.5528 - accuracy: 0.7310\n",
      "Epoch 72/100\n",
      "804/804 [==============================] - 1s 726us/step - loss: 0.5545 - accuracy: 0.7304\n",
      "Epoch 73/100\n",
      "804/804 [==============================] - 1s 918us/step - loss: 0.5522 - accuracy: 0.7333\n",
      "Epoch 74/100\n",
      "804/804 [==============================] - 1s 747us/step - loss: 0.5537 - accuracy: 0.7324\n",
      "Epoch 75/100\n",
      "759/804 [===========================>..] - ETA: 0s - loss: 0.5530 - accuracy: 0.7323\n",
      "Epoch 75: saving model to checkpoints/weights.75.hdf5\n",
      "804/804 [==============================] - 1s 798us/step - loss: 0.5528 - accuracy: 0.7324\n",
      "Epoch 76/100\n",
      "804/804 [==============================] - 1s 1ms/step - loss: 0.5537 - accuracy: 0.7302\n",
      "Epoch 77/100\n",
      "804/804 [==============================] - 1s 1ms/step - loss: 0.5518 - accuracy: 0.7322\n",
      "Epoch 78/100\n",
      "804/804 [==============================] - 1s 1ms/step - loss: 0.5520 - accuracy: 0.7306\n",
      "Epoch 79/100\n",
      "804/804 [==============================] - 1s 929us/step - loss: 0.5531 - accuracy: 0.7315\n",
      "Epoch 80/100\n",
      "769/804 [===========================>..] - ETA: 0s - loss: 0.5534 - accuracy: 0.7306\n",
      "Epoch 80: saving model to checkpoints/weights.80.hdf5\n",
      "804/804 [==============================] - 1s 1ms/step - loss: 0.5529 - accuracy: 0.7311\n",
      "Epoch 81/100\n",
      "804/804 [==============================] - 1s 976us/step - loss: 0.5534 - accuracy: 0.7315\n",
      "Epoch 82/100\n",
      "804/804 [==============================] - 1s 1ms/step - loss: 0.5520 - accuracy: 0.7313\n",
      "Epoch 83/100\n",
      "804/804 [==============================] - 1s 910us/step - loss: 0.5523 - accuracy: 0.7305\n",
      "Epoch 84/100\n",
      "804/804 [==============================] - 1s 873us/step - loss: 0.5519 - accuracy: 0.7308\n",
      "Epoch 85/100\n",
      "769/804 [===========================>..] - ETA: 0s - loss: 0.5528 - accuracy: 0.7320\n",
      "Epoch 85: saving model to checkpoints/weights.85.hdf5\n",
      "804/804 [==============================] - 1s 1ms/step - loss: 0.5525 - accuracy: 0.7318\n",
      "Epoch 86/100\n",
      "804/804 [==============================] - 1s 1ms/step - loss: 0.5536 - accuracy: 0.7313\n",
      "Epoch 87/100\n",
      "804/804 [==============================] - 1s 923us/step - loss: 0.5527 - accuracy: 0.7304\n",
      "Epoch 88/100\n",
      "804/804 [==============================] - 1s 828us/step - loss: 0.5521 - accuracy: 0.7297\n",
      "Epoch 89/100\n",
      "804/804 [==============================] - 1s 814us/step - loss: 0.5525 - accuracy: 0.7308\n",
      "Epoch 90/100\n",
      "784/804 [============================>.] - ETA: 0s - loss: 0.5533 - accuracy: 0.7307\n",
      "Epoch 90: saving model to checkpoints/weights.90.hdf5\n",
      "804/804 [==============================] - 1s 912us/step - loss: 0.5521 - accuracy: 0.7311\n",
      "Epoch 91/100\n",
      "804/804 [==============================] - 1s 941us/step - loss: 0.5502 - accuracy: 0.7318\n",
      "Epoch 92/100\n",
      "804/804 [==============================] - 1s 847us/step - loss: 0.5526 - accuracy: 0.7324\n",
      "Epoch 93/100\n",
      "804/804 [==============================] - 1s 1ms/step - loss: 0.5518 - accuracy: 0.7305\n",
      "Epoch 94/100\n",
      "804/804 [==============================] - 1s 793us/step - loss: 0.5526 - accuracy: 0.7310\n",
      "Epoch 95/100\n",
      "768/804 [===========================>..] - ETA: 0s - loss: 0.5493 - accuracy: 0.7326\n",
      "Epoch 95: saving model to checkpoints/weights.95.hdf5\n",
      "804/804 [==============================] - 1s 726us/step - loss: 0.5497 - accuracy: 0.7319\n",
      "Epoch 96/100\n",
      "804/804 [==============================] - 1s 763us/step - loss: 0.5528 - accuracy: 0.7319\n",
      "Epoch 97/100\n",
      "804/804 [==============================] - 1s 753us/step - loss: 0.5511 - accuracy: 0.7332\n",
      "Epoch 98/100\n",
      "804/804 [==============================] - 1s 913us/step - loss: 0.5516 - accuracy: 0.7328\n",
      "Epoch 99/100\n",
      "804/804 [==============================] - 1s 838us/step - loss: 0.5524 - accuracy: 0.7319\n",
      "Epoch 100/100\n",
      "799/804 [============================>.] - ETA: 0s - loss: 0.5501 - accuracy: 0.7311\n",
      "Epoch 100: saving model to checkpoints/weights.100.hdf5\n",
      "804/804 [==============================] - 1s 764us/step - loss: 0.5504 - accuracy: 0.7311\n"
     ]
    }
   ],
   "source": [
    "# Define the model - deep neural net, i.e., the number of input features and hidden nodes for each layer.\n",
    "number_input_features = len(X_train[0])\n",
    "hidden_nodes_layer1 = 64\n",
    "hidden_nodes_layer2 = 64\n",
    "\n",
    "nn = tf.keras.models.Sequential()\n",
    "\n",
    "# First hidden layer\n",
    "nn.add(\n",
    "    tf.keras.layers.Dense(units=hidden_nodes_layer1, input_dim=number_input_features, activation=tf.keras.layers.LeakyReLU(alpha=0.01))\n",
    ")\n",
    "nn.add(\n",
    "    tf.keras.layers.Dropout(rate=0.5)\n",
    ")\n",
    "# Second hidden layer\n",
    "nn.add(tf.keras.layers.Dense(units=hidden_nodes_layer2, activation=tf.keras.layers.LeakyReLU(alpha=0.01)))\n",
    "nn.add(\n",
    "    tf.keras.layers.Dropout(rate=0.5)\n",
    ")\n",
    "# Output layer\n",
    "nn.add(tf.keras.layers.Dense(units=1, activation=\"sigmoid\"))\n",
    "\n",
    "# Check the structure of the model\n",
    "nn.summary()\n",
    "\n",
    "nn.compile(loss=\"binary_crossentropy\", optimizer=\"adam\", metrics=[\"accuracy\"])\n",
    "\n",
    "fit_model = nn.fit(X_train_scaled,y_train,epochs=100,callbacks=[cp_callback])"
   ],
   "metadata": {
    "collapsed": false,
    "pycharm": {
     "name": "#%%\n"
    }
   }
  },
  {
   "cell_type": "code",
   "execution_count": 12,
   "outputs": [
    {
     "name": "stdout",
     "output_type": "stream",
     "text": [
      "268/268 - 0s - loss: 0.5525 - accuracy: 0.7301 - 208ms/epoch - 776us/step\n",
      "Loss: 0.5525237321853638, Accuracy: 0.7301457524299622\n"
     ]
    }
   ],
   "source": [
    "model_loss, model_accuracy = nn.evaluate(X_test_scaled,y_test,verbose=2)\n",
    "print(f\"Loss: {model_loss}, Accuracy: {model_accuracy}\")"
   ],
   "metadata": {
    "collapsed": false,
    "pycharm": {
     "name": "#%%\n"
    }
   }
  },
  {
   "cell_type": "markdown",
   "source": [
    "### Attempt #2: Clean income feature and add ask amt / cleaned income\n"
   ],
   "metadata": {
    "collapsed": false,
    "pycharm": {
     "name": "#%% md\n"
    }
   }
  },
  {
   "cell_type": "code",
   "execution_count": 13,
   "outputs": [
    {
     "name": "stderr",
     "output_type": "stream",
     "text": [
      "/home/andrew/tutor/module19/venv/lib/python3.8/site-packages/sklearn/utils/deprecation.py:87: FutureWarning: Function get_feature_names is deprecated; get_feature_names is deprecated in 1.0 and will be removed in 1.2. Please use get_feature_names_out instead.\n",
      "  warnings.warn(msg, category=FutureWarning)\n"
     ]
    },
    {
     "data": {
      "text/plain": "   STATUS  INCOME_AMT  ASK_AMT  IS_SUCCESSFUL  ASK_VS_CLEANED_INCOME  \\\n0       1           0     5000              1                 0.0000   \n1       1        5000   108590              1                21.7180   \n2       1           0     5000              0                 0.0000   \n3       1       17500     6692              1                 0.3824   \n4       1      300000   142590              1                 0.4753   \n\n   APPLICATION_TYPE_Other  APPLICATION_TYPE_T10  APPLICATION_TYPE_T19  \\\n0                     0.0                   1.0                   0.0   \n1                     0.0                   0.0                   0.0   \n2                     0.0                   0.0                   0.0   \n3                     0.0                   0.0                   0.0   \n4                     0.0                   0.0                   0.0   \n\n   APPLICATION_TYPE_T3  APPLICATION_TYPE_T4  ...  USE_CASE_Heathcare  \\\n0                  0.0                  0.0  ...                 0.0   \n1                  1.0                  0.0  ...                 0.0   \n2                  0.0                  0.0  ...                 0.0   \n3                  1.0                  0.0  ...                 0.0   \n4                  1.0                  0.0  ...                 1.0   \n\n   USE_CASE_Other  USE_CASE_Preservation  USE_CASE_ProductDev  \\\n0             0.0                    0.0                  1.0   \n1             0.0                    1.0                  0.0   \n2             0.0                    0.0                  1.0   \n3             0.0                    1.0                  0.0   \n4             0.0                    0.0                  0.0   \n\n   ORGANIZATION_Association  ORGANIZATION_Co-operative  \\\n0                       1.0                        0.0   \n1                       0.0                        1.0   \n2                       1.0                        0.0   \n3                       0.0                        0.0   \n4                       0.0                        0.0   \n\n   ORGANIZATION_Corporation  ORGANIZATION_Trust  SPECIAL_CONSIDERATIONS_N  \\\n0                       0.0                 0.0                       1.0   \n1                       0.0                 0.0                       1.0   \n2                       0.0                 0.0                       1.0   \n3                       0.0                 1.0                       1.0   \n4                       0.0                 1.0                       1.0   \n\n   SPECIAL_CONSIDERATIONS_Y  \n0                       0.0  \n1                       0.0  \n2                       0.0  \n3                       0.0  \n4                       0.0  \n\n[5 rows x 37 columns]",
      "text/html": "<div>\n<style scoped>\n    .dataframe tbody tr th:only-of-type {\n        vertical-align: middle;\n    }\n\n    .dataframe tbody tr th {\n        vertical-align: top;\n    }\n\n    .dataframe thead th {\n        text-align: right;\n    }\n</style>\n<table border=\"1\" class=\"dataframe\">\n  <thead>\n    <tr style=\"text-align: right;\">\n      <th></th>\n      <th>STATUS</th>\n      <th>INCOME_AMT</th>\n      <th>ASK_AMT</th>\n      <th>IS_SUCCESSFUL</th>\n      <th>ASK_VS_CLEANED_INCOME</th>\n      <th>APPLICATION_TYPE_Other</th>\n      <th>APPLICATION_TYPE_T10</th>\n      <th>APPLICATION_TYPE_T19</th>\n      <th>APPLICATION_TYPE_T3</th>\n      <th>APPLICATION_TYPE_T4</th>\n      <th>...</th>\n      <th>USE_CASE_Heathcare</th>\n      <th>USE_CASE_Other</th>\n      <th>USE_CASE_Preservation</th>\n      <th>USE_CASE_ProductDev</th>\n      <th>ORGANIZATION_Association</th>\n      <th>ORGANIZATION_Co-operative</th>\n      <th>ORGANIZATION_Corporation</th>\n      <th>ORGANIZATION_Trust</th>\n      <th>SPECIAL_CONSIDERATIONS_N</th>\n      <th>SPECIAL_CONSIDERATIONS_Y</th>\n    </tr>\n  </thead>\n  <tbody>\n    <tr>\n      <th>0</th>\n      <td>1</td>\n      <td>0</td>\n      <td>5000</td>\n      <td>1</td>\n      <td>0.0000</td>\n      <td>0.0</td>\n      <td>1.0</td>\n      <td>0.0</td>\n      <td>0.0</td>\n      <td>0.0</td>\n      <td>...</td>\n      <td>0.0</td>\n      <td>0.0</td>\n      <td>0.0</td>\n      <td>1.0</td>\n      <td>1.0</td>\n      <td>0.0</td>\n      <td>0.0</td>\n      <td>0.0</td>\n      <td>1.0</td>\n      <td>0.0</td>\n    </tr>\n    <tr>\n      <th>1</th>\n      <td>1</td>\n      <td>5000</td>\n      <td>108590</td>\n      <td>1</td>\n      <td>21.7180</td>\n      <td>0.0</td>\n      <td>0.0</td>\n      <td>0.0</td>\n      <td>1.0</td>\n      <td>0.0</td>\n      <td>...</td>\n      <td>0.0</td>\n      <td>0.0</td>\n      <td>1.0</td>\n      <td>0.0</td>\n      <td>0.0</td>\n      <td>1.0</td>\n      <td>0.0</td>\n      <td>0.0</td>\n      <td>1.0</td>\n      <td>0.0</td>\n    </tr>\n    <tr>\n      <th>2</th>\n      <td>1</td>\n      <td>0</td>\n      <td>5000</td>\n      <td>0</td>\n      <td>0.0000</td>\n      <td>0.0</td>\n      <td>0.0</td>\n      <td>0.0</td>\n      <td>0.0</td>\n      <td>0.0</td>\n      <td>...</td>\n      <td>0.0</td>\n      <td>0.0</td>\n      <td>0.0</td>\n      <td>1.0</td>\n      <td>1.0</td>\n      <td>0.0</td>\n      <td>0.0</td>\n      <td>0.0</td>\n      <td>1.0</td>\n      <td>0.0</td>\n    </tr>\n    <tr>\n      <th>3</th>\n      <td>1</td>\n      <td>17500</td>\n      <td>6692</td>\n      <td>1</td>\n      <td>0.3824</td>\n      <td>0.0</td>\n      <td>0.0</td>\n      <td>0.0</td>\n      <td>1.0</td>\n      <td>0.0</td>\n      <td>...</td>\n      <td>0.0</td>\n      <td>0.0</td>\n      <td>1.0</td>\n      <td>0.0</td>\n      <td>0.0</td>\n      <td>0.0</td>\n      <td>0.0</td>\n      <td>1.0</td>\n      <td>1.0</td>\n      <td>0.0</td>\n    </tr>\n    <tr>\n      <th>4</th>\n      <td>1</td>\n      <td>300000</td>\n      <td>142590</td>\n      <td>1</td>\n      <td>0.4753</td>\n      <td>0.0</td>\n      <td>0.0</td>\n      <td>0.0</td>\n      <td>1.0</td>\n      <td>0.0</td>\n      <td>...</td>\n      <td>1.0</td>\n      <td>0.0</td>\n      <td>0.0</td>\n      <td>0.0</td>\n      <td>0.0</td>\n      <td>0.0</td>\n      <td>0.0</td>\n      <td>1.0</td>\n      <td>1.0</td>\n      <td>0.0</td>\n    </tr>\n  </tbody>\n</table>\n<p>5 rows × 37 columns</p>\n</div>"
     },
     "execution_count": 13,
     "metadata": {},
     "output_type": "execute_result"
    }
   ],
   "source": [
    "new_df = application_df.replace({'INCOME_AMT': {'0': 0, '25000-99999': 62_500, '100000-499999': 300_000, '1M-5M': 3_000_000, '1-9999': 5_000, '10000-24999': 17_500, '10M-50M': 30_000_000, '5M-10M': 7_500_000, '50M+': 50_000_000}})\n",
    "new_df['ASK_VS_CLEANED_INCOME'] = 0\n",
    "new_df.loc[new_df['INCOME_AMT'] != 0, 'ASK_VS_CLEANED_INCOME'] = new_df['ASK_AMT'][new_df['INCOME_AMT'] != 0] / new_df['INCOME_AMT'][new_df['INCOME_AMT'] != 0]\n",
    "\n",
    "categorical_variables = ['APPLICATION_TYPE', 'AFFILIATION', 'CLASSIFICATION', 'USE_CASE', 'ORGANIZATION', 'SPECIAL_CONSIDERATIONS']\n",
    "# Create a OneHotEncoder instance\n",
    "enc = OneHotEncoder(sparse=False)\n",
    "\n",
    "application_cat = new_df[categorical_variables]\n",
    "# Fit and transform the OneHotEncoder using the categorical variable list\n",
    "encode_df = pd.DataFrame(enc.fit_transform(application_cat))\n",
    "\n",
    "# Add the encoded variable names to the dataframe\n",
    "encode_df.columns = enc.get_feature_names(categorical_variables)\n",
    "df = new_df.merge(encode_df, left_index=True, right_index=True).drop(columns=categorical_variables)\n",
    "\n",
    "df.head()\n"
   ],
   "metadata": {
    "collapsed": false,
    "pycharm": {
     "name": "#%%\n"
    }
   }
  },
  {
   "cell_type": "code",
   "execution_count": 14,
   "outputs": [
    {
     "name": "stdout",
     "output_type": "stream",
     "text": [
      "Model: \"sequential_1\"\n",
      "_________________________________________________________________\n",
      " Layer (type)                Output Shape              Param #   \n",
      "=================================================================\n",
      " dense_3 (Dense)             (None, 64)                2368      \n",
      "                                                                 \n",
      " dropout_2 (Dropout)         (None, 64)                0         \n",
      "                                                                 \n",
      " dense_4 (Dense)             (None, 64)                4160      \n",
      "                                                                 \n",
      " dropout_3 (Dropout)         (None, 64)                0         \n",
      "                                                                 \n",
      " dense_5 (Dense)             (None, 1)                 65        \n",
      "                                                                 \n",
      "=================================================================\n",
      "Total params: 6,593\n",
      "Trainable params: 6,593\n",
      "Non-trainable params: 0\n",
      "_________________________________________________________________\n",
      "Epoch 1/100\n",
      "804/804 [==============================] - 1s 892us/step - loss: 90841.5938 - accuracy: 0.4922\n",
      "Epoch 2/100\n",
      "804/804 [==============================] - 1s 746us/step - loss: 63592.2188 - accuracy: 0.4867\n",
      "Epoch 3/100\n",
      "804/804 [==============================] - 1s 810us/step - loss: 102205.5000 - accuracy: 0.4864\n",
      "Epoch 4/100\n",
      "804/804 [==============================] - 1s 762us/step - loss: 55827.3945 - accuracy: 0.4904\n",
      "Epoch 5/100\n",
      "735/804 [==========================>...] - ETA: 0s - loss: 39313.7539 - accuracy: 0.4986\n",
      "Epoch 5: saving model to checkpoints/weights.05.hdf5\n",
      "804/804 [==============================] - 1s 822us/step - loss: 36320.3047 - accuracy: 0.4988\n",
      "Epoch 6/100\n",
      "804/804 [==============================] - 1s 730us/step - loss: 51323.9531 - accuracy: 0.5016\n",
      "Epoch 7/100\n",
      "804/804 [==============================] - 1s 1ms/step - loss: 44004.9023 - accuracy: 0.4944\n",
      "Epoch 8/100\n",
      "804/804 [==============================] - 1s 741us/step - loss: 8094.2847 - accuracy: 0.5030\n",
      "Epoch 9/100\n",
      "804/804 [==============================] - 1s 808us/step - loss: 13772.5107 - accuracy: 0.5065\n",
      "Epoch 10/100\n",
      "742/804 [==========================>...] - ETA: 0s - loss: 11657.7773 - accuracy: 0.4983\n",
      "Epoch 10: saving model to checkpoints/weights.10.hdf5\n",
      "804/804 [==============================] - 1s 751us/step - loss: 10838.5225 - accuracy: 0.4986\n",
      "Epoch 11/100\n",
      "804/804 [==============================] - 1s 1ms/step - loss: 9994.4824 - accuracy: 0.5053\n",
      "Epoch 12/100\n",
      "804/804 [==============================] - 1s 820us/step - loss: 2653.9480 - accuracy: 0.4972\n",
      "Epoch 13/100\n",
      "804/804 [==============================] - 1s 759us/step - loss: 4468.8994 - accuracy: 0.4896\n",
      "Epoch 14/100\n",
      "804/804 [==============================] - 1s 755us/step - loss: 2543.0828 - accuracy: 0.5083\n",
      "Epoch 15/100\n",
      "745/804 [==========================>...] - ETA: 0s - loss: 2352.0969 - accuracy: 0.5006\n",
      "Epoch 15: saving model to checkpoints/weights.15.hdf5\n",
      "804/804 [==============================] - 1s 756us/step - loss: 2334.4661 - accuracy: 0.4997\n",
      "Epoch 16/100\n",
      "804/804 [==============================] - 1s 1ms/step - loss: 7596.2109 - accuracy: 0.5030\n",
      "Epoch 17/100\n",
      "804/804 [==============================] - 1s 744us/step - loss: 4218.2900 - accuracy: 0.5029\n",
      "Epoch 18/100\n",
      "804/804 [==============================] - 1s 927us/step - loss: 2338.0891 - accuracy: 0.5066\n",
      "Epoch 19/100\n",
      "804/804 [==============================] - 1s 749us/step - loss: 1896.5332 - accuracy: 0.5045\n",
      "Epoch 20/100\n",
      "788/804 [============================>.] - ETA: 0s - loss: 1505.2112 - accuracy: 0.4958\n",
      "Epoch 20: saving model to checkpoints/weights.20.hdf5\n",
      "804/804 [==============================] - 1s 904us/step - loss: 1484.8849 - accuracy: 0.4966\n",
      "Epoch 21/100\n",
      "804/804 [==============================] - 1s 794us/step - loss: 1284.4347 - accuracy: 0.5069\n",
      "Epoch 22/100\n",
      "804/804 [==============================] - 1s 757us/step - loss: 1964.0736 - accuracy: 0.5015\n",
      "Epoch 23/100\n",
      "804/804 [==============================] - 1s 846us/step - loss: 1349.6772 - accuracy: 0.5108\n",
      "Epoch 24/100\n",
      "804/804 [==============================] - 1s 801us/step - loss: 3899.2527 - accuracy: 0.5002\n",
      "Epoch 25/100\n",
      "762/804 [===========================>..] - ETA: 0s - loss: 2054.4468 - accuracy: 0.5129\n",
      "Epoch 25: saving model to checkpoints/weights.25.hdf5\n",
      "804/804 [==============================] - 1s 986us/step - loss: 1956.7528 - accuracy: 0.5128\n",
      "Epoch 26/100\n",
      "804/804 [==============================] - 1s 848us/step - loss: 846.2194 - accuracy: 0.5122\n",
      "Epoch 27/100\n",
      "804/804 [==============================] - 1s 979us/step - loss: 683.8511 - accuracy: 0.5115\n",
      "Epoch 28/100\n",
      "804/804 [==============================] - 1s 778us/step - loss: 1327.9412 - accuracy: 0.5166\n",
      "Epoch 29/100\n",
      "804/804 [==============================] - 1s 1ms/step - loss: 834.3194 - accuracy: 0.5032\n",
      "Epoch 30/100\n",
      "758/804 [===========================>..] - ETA: 0s - loss: 567.1249 - accuracy: 0.5120\n",
      "Epoch 30: saving model to checkpoints/weights.30.hdf5\n",
      "804/804 [==============================] - 1s 1ms/step - loss: 548.9439 - accuracy: 0.5117\n",
      "Epoch 31/100\n",
      "804/804 [==============================] - 1s 756us/step - loss: 799.2551 - accuracy: 0.5093\n",
      "Epoch 32/100\n",
      "804/804 [==============================] - 1s 794us/step - loss: 490.0363 - accuracy: 0.5024\n",
      "Epoch 33/100\n",
      "804/804 [==============================] - 1s 747us/step - loss: 1493.2800 - accuracy: 0.5120\n",
      "Epoch 34/100\n",
      "804/804 [==============================] - 1s 712us/step - loss: 206.1405 - accuracy: 0.5099\n",
      "Epoch 35/100\n",
      "757/804 [===========================>..] - ETA: 0s - loss: 262.8767 - accuracy: 0.5126\n",
      "Epoch 35: saving model to checkpoints/weights.35.hdf5\n",
      "804/804 [==============================] - 1s 738us/step - loss: 249.5380 - accuracy: 0.5129\n",
      "Epoch 36/100\n",
      "804/804 [==============================] - 1s 921us/step - loss: 335.5333 - accuracy: 0.5075\n",
      "Epoch 37/100\n",
      "804/804 [==============================] - 1s 752us/step - loss: 246.9933 - accuracy: 0.4986\n",
      "Epoch 38/100\n",
      "804/804 [==============================] - 1s 831us/step - loss: 210.5654 - accuracy: 0.5024\n",
      "Epoch 39/100\n",
      "804/804 [==============================] - 1s 700us/step - loss: 243.8433 - accuracy: 0.5044\n",
      "Epoch 40/100\n",
      "730/804 [==========================>...] - ETA: 0s - loss: 91.7241 - accuracy: 0.5136\n",
      "Epoch 40: saving model to checkpoints/weights.40.hdf5\n",
      "804/804 [==============================] - 1s 694us/step - loss: 85.7260 - accuracy: 0.5132\n",
      "Epoch 41/100\n",
      "804/804 [==============================] - 1s 936us/step - loss: 143.4469 - accuracy: 0.5038\n",
      "Epoch 42/100\n",
      "804/804 [==============================] - 1s 803us/step - loss: 57.1600 - accuracy: 0.5003\n",
      "Epoch 43/100\n",
      "804/804 [==============================] - 1s 837us/step - loss: 42.1246 - accuracy: 0.5074\n",
      "Epoch 44/100\n",
      "804/804 [==============================] - 1s 1ms/step - loss: 46.2874 - accuracy: 0.5033\n",
      "Epoch 45/100\n",
      "773/804 [===========================>..] - ETA: 0s - loss: 21.0243 - accuracy: 0.5104\n",
      "Epoch 45: saving model to checkpoints/weights.45.hdf5\n",
      "804/804 [==============================] - 1s 1ms/step - loss: 20.4527 - accuracy: 0.5101\n",
      "Epoch 46/100\n",
      "804/804 [==============================] - 1s 934us/step - loss: 196.7538 - accuracy: 0.5129\n",
      "Epoch 47/100\n",
      "804/804 [==============================] - 1s 814us/step - loss: 430.2234 - accuracy: 0.5035\n",
      "Epoch 48/100\n",
      "804/804 [==============================] - 1s 1ms/step - loss: 213.4396 - accuracy: 0.5067\n",
      "Epoch 49/100\n",
      "804/804 [==============================] - 1s 1ms/step - loss: 194.7120 - accuracy: 0.5135\n",
      "Epoch 50/100\n",
      "751/804 [===========================>..] - ETA: 0s - loss: 383.3846 - accuracy: 0.5072\n",
      "Epoch 50: saving model to checkpoints/weights.50.hdf5\n",
      "804/804 [==============================] - 1s 1ms/step - loss: 359.4005 - accuracy: 0.5065\n",
      "Epoch 51/100\n",
      "804/804 [==============================] - 1s 718us/step - loss: 40.3501 - accuracy: 0.5034\n",
      "Epoch 52/100\n",
      "804/804 [==============================] - 1s 890us/step - loss: 42.7592 - accuracy: 0.5128\n",
      "Epoch 53/100\n",
      "804/804 [==============================] - 1s 763us/step - loss: 24.5229 - accuracy: 0.5127\n",
      "Epoch 54/100\n",
      "804/804 [==============================] - 1s 1ms/step - loss: 14.7538 - accuracy: 0.5064\n",
      "Epoch 55/100\n",
      "742/804 [==========================>...] - ETA: 0s - loss: 31.5298 - accuracy: 0.5084\n",
      "Epoch 55: saving model to checkpoints/weights.55.hdf5\n",
      "804/804 [==============================] - 1s 817us/step - loss: 30.3186 - accuracy: 0.5084\n",
      "Epoch 56/100\n",
      "804/804 [==============================] - 1s 744us/step - loss: 25.1248 - accuracy: 0.5115\n",
      "Epoch 57/100\n",
      "804/804 [==============================] - 1s 954us/step - loss: 42.9870 - accuracy: 0.5100\n",
      "Epoch 58/100\n",
      "804/804 [==============================] - 1s 804us/step - loss: 13.9614 - accuracy: 0.5108\n",
      "Epoch 59/100\n",
      "804/804 [==============================] - 1s 746us/step - loss: 40.2253 - accuracy: 0.5130\n",
      "Epoch 60/100\n",
      "801/804 [============================>.] - ETA: 0s - loss: 24.7038 - accuracy: 0.5133\n",
      "Epoch 60: saving model to checkpoints/weights.60.hdf5\n",
      "804/804 [==============================] - 1s 892us/step - loss: 24.6271 - accuracy: 0.5134\n",
      "Epoch 61/100\n",
      "804/804 [==============================] - 1s 1ms/step - loss: 29.9740 - accuracy: 0.5123\n",
      "Epoch 62/100\n",
      "804/804 [==============================] - 1s 963us/step - loss: 23.1050 - accuracy: 0.5086\n",
      "Epoch 63/100\n",
      "804/804 [==============================] - 1s 803us/step - loss: 129.9070 - accuracy: 0.5121\n",
      "Epoch 64/100\n",
      "804/804 [==============================] - 1s 921us/step - loss: 228.0423 - accuracy: 0.5149\n",
      "Epoch 65/100\n",
      "795/804 [============================>.] - ETA: 0s - loss: 37.6756 - accuracy: 0.5156\n",
      "Epoch 65: saving model to checkpoints/weights.65.hdf5\n",
      "804/804 [==============================] - 1s 893us/step - loss: 37.5592 - accuracy: 0.5157\n",
      "Epoch 66/100\n",
      "804/804 [==============================] - 1s 727us/step - loss: 31.6303 - accuracy: 0.5187\n",
      "Epoch 67/100\n",
      "804/804 [==============================] - 1s 731us/step - loss: 27.0323 - accuracy: 0.5131\n",
      "Epoch 68/100\n",
      "804/804 [==============================] - 1s 909us/step - loss: 32.5591 - accuracy: 0.5052\n",
      "Epoch 69/100\n",
      "804/804 [==============================] - 1s 986us/step - loss: 41.5864 - accuracy: 0.5110\n",
      "Epoch 70/100\n",
      "768/804 [===========================>..] - ETA: 0s - loss: 10.2558 - accuracy: 0.5124\n",
      "Epoch 70: saving model to checkpoints/weights.70.hdf5\n",
      "804/804 [==============================] - 1s 1ms/step - loss: 14.5922 - accuracy: 0.5138\n",
      "Epoch 71/100\n",
      "804/804 [==============================] - 1s 804us/step - loss: 14.4128 - accuracy: 0.5117\n",
      "Epoch 72/100\n",
      "804/804 [==============================] - 1s 937us/step - loss: 322.3317 - accuracy: 0.5148\n",
      "Epoch 73/100\n",
      "804/804 [==============================] - 1s 737us/step - loss: 14.9395 - accuracy: 0.5121\n",
      "Epoch 74/100\n",
      "804/804 [==============================] - 1s 742us/step - loss: 16.2896 - accuracy: 0.5119\n",
      "Epoch 75/100\n",
      "777/804 [===========================>..] - ETA: 0s - loss: 17.6480 - accuracy: 0.5143\n",
      "Epoch 75: saving model to checkpoints/weights.75.hdf5\n",
      "804/804 [==============================] - 1s 862us/step - loss: 17.4291 - accuracy: 0.5140\n",
      "Epoch 76/100\n",
      "804/804 [==============================] - 1s 999us/step - loss: 10.7660 - accuracy: 0.5131\n",
      "Epoch 77/100\n",
      "804/804 [==============================] - 1s 860us/step - loss: 72.8836 - accuracy: 0.5142\n",
      "Epoch 78/100\n",
      "804/804 [==============================] - 1s 722us/step - loss: 40.7309 - accuracy: 0.5120\n",
      "Epoch 79/100\n",
      "804/804 [==============================] - 1s 835us/step - loss: 16.9683 - accuracy: 0.5166\n",
      "Epoch 80/100\n",
      "754/804 [===========================>..] - ETA: 0s - loss: 7.6059 - accuracy: 0.5199\n",
      "Epoch 80: saving model to checkpoints/weights.80.hdf5\n",
      "804/804 [==============================] - 1s 741us/step - loss: 7.5801 - accuracy: 0.5184\n",
      "Epoch 81/100\n",
      "804/804 [==============================] - 1s 794us/step - loss: 223.7990 - accuracy: 0.5128\n",
      "Epoch 82/100\n",
      "804/804 [==============================] - 1s 954us/step - loss: 38.8623 - accuracy: 0.5164\n",
      "Epoch 83/100\n",
      "804/804 [==============================] - 1s 935us/step - loss: 10.0347 - accuracy: 0.5129\n",
      "Epoch 84/100\n",
      "804/804 [==============================] - 1s 1ms/step - loss: 12.8906 - accuracy: 0.5144\n",
      "Epoch 85/100\n",
      "777/804 [===========================>..] - ETA: 0s - loss: 11.0537 - accuracy: 0.5168\n",
      "Epoch 85: saving model to checkpoints/weights.85.hdf5\n",
      "804/804 [==============================] - 1s 1ms/step - loss: 10.8545 - accuracy: 0.5162\n",
      "Epoch 86/100\n",
      "804/804 [==============================] - 1s 905us/step - loss: 18.9871 - accuracy: 0.5164\n",
      "Epoch 87/100\n",
      "804/804 [==============================] - 1s 977us/step - loss: 13.3948 - accuracy: 0.5102\n",
      "Epoch 88/100\n",
      "804/804 [==============================] - 1s 829us/step - loss: 12.6364 - accuracy: 0.5138\n",
      "Epoch 89/100\n",
      "804/804 [==============================] - 1s 921us/step - loss: 19.5469 - accuracy: 0.5158\n",
      "Epoch 90/100\n",
      "777/804 [===========================>..] - ETA: 0s - loss: 25.8831 - accuracy: 0.5160\n",
      "Epoch 90: saving model to checkpoints/weights.90.hdf5\n",
      "804/804 [==============================] - 1s 1ms/step - loss: 25.0970 - accuracy: 0.5158\n",
      "Epoch 91/100\n",
      "804/804 [==============================] - 1s 1ms/step - loss: 7.7299 - accuracy: 0.5178\n",
      "Epoch 92/100\n",
      "804/804 [==============================] - 1s 870us/step - loss: 50.0213 - accuracy: 0.5189\n",
      "Epoch 93/100\n",
      "804/804 [==============================] - 1s 949us/step - loss: 12.7715 - accuracy: 0.5149\n",
      "Epoch 94/100\n",
      "804/804 [==============================] - 1s 746us/step - loss: 8.0611 - accuracy: 0.5152\n",
      "Epoch 95/100\n",
      "791/804 [============================>.] - ETA: 0s - loss: 16.3868 - accuracy: 0.5128\n",
      "Epoch 95: saving model to checkpoints/weights.95.hdf5\n",
      "804/804 [==============================] - 1s 779us/step - loss: 16.1553 - accuracy: 0.5133\n",
      "Epoch 96/100\n",
      "804/804 [==============================] - 1s 1ms/step - loss: 11.9144 - accuracy: 0.5129\n",
      "Epoch 97/100\n",
      "804/804 [==============================] - 1s 922us/step - loss: 7.4726 - accuracy: 0.5207\n",
      "Epoch 98/100\n",
      "804/804 [==============================] - 1s 1ms/step - loss: 128.8350 - accuracy: 0.5096\n",
      "Epoch 99/100\n",
      "804/804 [==============================] - 1s 966us/step - loss: 122.9568 - accuracy: 0.5138\n",
      "Epoch 100/100\n",
      "799/804 [============================>.] - ETA: 0s - loss: 36.5619 - accuracy: 0.5092\n",
      "Epoch 100: saving model to checkpoints/weights.100.hdf5\n",
      "804/804 [==============================] - 1s 889us/step - loss: 36.3508 - accuracy: 0.5094\n"
     ]
    }
   ],
   "source": [
    "# Split our preprocessed data into our features and target arrays\n",
    "y = df.IS_SUCCESSFUL.values.reshape(-1, 1)\n",
    "X = df.drop(columns=['IS_SUCCESSFUL']).values\n",
    "\n",
    "# Split the preprocessed data into a training and testing dataset\n",
    "X_train, X_test, y_train, y_test = train_test_split(X, y)\n",
    "\n",
    "# Create a StandardScaler instances\n",
    "scaler = StandardScaler()\n",
    "\n",
    "# Fit the StandardScaler\n",
    "X_scaler = scaler.fit(X_train)\n",
    "\n",
    "# Scale the data\n",
    "X_train_scaled = X_scaler.transform(X_train)\n",
    "X_test_scaled = X_scaler.transform(X_test)\n",
    "\n",
    "# Define the model - deep neural net, i.e., the number of input features and hidden nodes for each layer.\n",
    "number_input_features = len(X_train[0])\n",
    "hidden_nodes_layer1 = 64\n",
    "hidden_nodes_layer2 = 64\n",
    "\n",
    "nn = tf.keras.models.Sequential()\n",
    "\n",
    "# First hidden layer\n",
    "nn.add(\n",
    "    tf.keras.layers.Dense(units=hidden_nodes_layer1, input_dim=number_input_features, activation=tf.keras.layers.LeakyReLU(alpha=0.01))\n",
    ")\n",
    "nn.add(\n",
    "    tf.keras.layers.Dropout(rate=0.5)\n",
    ")\n",
    "# Second hidden layer\n",
    "nn.add(tf.keras.layers.Dense(units=hidden_nodes_layer2, activation=tf.keras.layers.LeakyReLU(alpha=0.01)))\n",
    "nn.add(\n",
    "    tf.keras.layers.Dropout(rate=0.5)\n",
    ")\n",
    "# Output layer\n",
    "nn.add(tf.keras.layers.Dense(units=1, activation=\"sigmoid\"))\n",
    "\n",
    "# Check the structure of the model\n",
    "nn.summary()\n",
    "\n",
    "nn.compile(loss=\"binary_crossentropy\", optimizer=\"adam\", metrics=[\"accuracy\"])\n",
    "\n",
    "fit_model = nn.fit(X_train, y_train,epochs=100,callbacks=[cp_callback])"
   ],
   "metadata": {
    "collapsed": false,
    "pycharm": {
     "name": "#%%\n"
    }
   }
  },
  {
   "cell_type": "code",
   "execution_count": 15,
   "outputs": [
    {
     "name": "stdout",
     "output_type": "stream",
     "text": [
      "268/268 - 0s - loss: 0.8187 - accuracy: 0.5183 - 185ms/epoch - 689us/step\n",
      "Loss: 0.8187042474746704, Accuracy: 0.5182507038116455\n"
     ]
    }
   ],
   "source": [
    "model_loss, model_accuracy = nn.evaluate(X_test_scaled,y_test,verbose=2)\n",
    "print(f\"Loss: {model_loss}, Accuracy: {model_accuracy}\")"
   ],
   "metadata": {
    "collapsed": false,
    "pycharm": {
     "name": "#%%\n"
    }
   }
  },
  {
   "cell_type": "markdown",
   "source": [
    "### Attempt #3: new data, old architecture\n"
   ],
   "metadata": {
    "collapsed": false,
    "pycharm": {
     "name": "#%% md\n"
    }
   }
  },
  {
   "cell_type": "code",
   "execution_count": 16,
   "outputs": [
    {
     "name": "stdout",
     "output_type": "stream",
     "text": [
      "Epoch 1/100\n",
      "804/804 [==============================] - 1s 643us/step - loss: 0.6288 - accuracy: 0.6751\n",
      "Epoch 2/100\n",
      "804/804 [==============================] - 1s 625us/step - loss: 0.5740 - accuracy: 0.7243\n",
      "Epoch 3/100\n",
      "804/804 [==============================] - 1s 648us/step - loss: 0.5634 - accuracy: 0.7251\n",
      "Epoch 4/100\n",
      "804/804 [==============================] - 1s 646us/step - loss: 0.5608 - accuracy: 0.7250\n",
      "Epoch 5/100\n",
      "788/804 [============================>.] - ETA: 0s - loss: 0.5601 - accuracy: 0.7260\n",
      "Epoch 5: saving model to checkpoints/weights.05.hdf5\n",
      "804/804 [==============================] - 1s 646us/step - loss: 0.5599 - accuracy: 0.7262\n",
      "Epoch 6/100\n",
      "804/804 [==============================] - 1s 642us/step - loss: 0.5589 - accuracy: 0.7268\n",
      "Epoch 7/100\n",
      "804/804 [==============================] - 1s 651us/step - loss: 0.5582 - accuracy: 0.7280\n",
      "Epoch 8/100\n",
      "804/804 [==============================] - 1s 638us/step - loss: 0.5576 - accuracy: 0.7289\n",
      "Epoch 9/100\n",
      "804/804 [==============================] - 1s 645us/step - loss: 0.5571 - accuracy: 0.7299\n",
      "Epoch 10/100\n",
      "754/804 [===========================>..] - ETA: 0s - loss: 0.5564 - accuracy: 0.7298\n",
      "Epoch 10: saving model to checkpoints/weights.10.hdf5\n",
      "804/804 [==============================] - 1s 681us/step - loss: 0.5566 - accuracy: 0.7295\n",
      "Epoch 11/100\n",
      "804/804 [==============================] - 1s 672us/step - loss: 0.5561 - accuracy: 0.7302\n",
      "Epoch 12/100\n",
      "804/804 [==============================] - 1s 641us/step - loss: 0.5558 - accuracy: 0.7292\n",
      "Epoch 13/100\n",
      "804/804 [==============================] - 1s 640us/step - loss: 0.5552 - accuracy: 0.7301\n",
      "Epoch 14/100\n",
      "804/804 [==============================] - 1s 648us/step - loss: 0.5552 - accuracy: 0.7308\n",
      "Epoch 15/100\n",
      "787/804 [============================>.] - ETA: 0s - loss: 0.5540 - accuracy: 0.7311\n",
      "Epoch 15: saving model to checkpoints/weights.15.hdf5\n",
      "804/804 [==============================] - 1s 646us/step - loss: 0.5546 - accuracy: 0.7302\n",
      "Epoch 16/100\n",
      "804/804 [==============================] - 1s 643us/step - loss: 0.5544 - accuracy: 0.7303\n",
      "Epoch 17/100\n",
      "804/804 [==============================] - 1s 635us/step - loss: 0.5538 - accuracy: 0.7305\n",
      "Epoch 18/100\n",
      "804/804 [==============================] - 1s 646us/step - loss: 0.5534 - accuracy: 0.7310\n",
      "Epoch 19/100\n",
      "804/804 [==============================] - 1s 659us/step - loss: 0.5530 - accuracy: 0.7312\n",
      "Epoch 20/100\n",
      "732/804 [==========================>...] - ETA: 0s - loss: 0.5528 - accuracy: 0.7312\n",
      "Epoch 20: saving model to checkpoints/weights.20.hdf5\n",
      "804/804 [==============================] - 1s 635us/step - loss: 0.5530 - accuracy: 0.7308\n",
      "Epoch 21/100\n",
      "804/804 [==============================] - 0s 601us/step - loss: 0.5528 - accuracy: 0.7311\n",
      "Epoch 22/100\n",
      "804/804 [==============================] - 1s 622us/step - loss: 0.5526 - accuracy: 0.7302\n",
      "Epoch 23/100\n",
      "804/804 [==============================] - 1s 640us/step - loss: 0.5525 - accuracy: 0.7310\n",
      "Epoch 24/100\n",
      "804/804 [==============================] - 1s 636us/step - loss: 0.5522 - accuracy: 0.7303\n",
      "Epoch 25/100\n",
      "797/804 [============================>.] - ETA: 0s - loss: 0.5523 - accuracy: 0.7310\n",
      "Epoch 25: saving model to checkpoints/weights.25.hdf5\n",
      "804/804 [==============================] - 1s 638us/step - loss: 0.5522 - accuracy: 0.7311\n",
      "Epoch 26/100\n",
      "804/804 [==============================] - 1s 631us/step - loss: 0.5523 - accuracy: 0.7311\n",
      "Epoch 27/100\n",
      "804/804 [==============================] - 1s 665us/step - loss: 0.5523 - accuracy: 0.7308\n",
      "Epoch 28/100\n",
      "804/804 [==============================] - 1s 641us/step - loss: 0.5521 - accuracy: 0.7297\n",
      "Epoch 29/100\n",
      "804/804 [==============================] - 1s 649us/step - loss: 0.5520 - accuracy: 0.7310\n",
      "Epoch 30/100\n",
      "789/804 [============================>.] - ETA: 0s - loss: 0.5527 - accuracy: 0.7304\n",
      "Epoch 30: saving model to checkpoints/weights.30.hdf5\n",
      "804/804 [==============================] - 1s 645us/step - loss: 0.5520 - accuracy: 0.7313\n",
      "Epoch 31/100\n",
      "804/804 [==============================] - 1s 636us/step - loss: 0.5516 - accuracy: 0.7315\n",
      "Epoch 32/100\n",
      "804/804 [==============================] - 1s 629us/step - loss: 0.5516 - accuracy: 0.7311\n",
      "Epoch 33/100\n",
      "804/804 [==============================] - 0s 613us/step - loss: 0.5514 - accuracy: 0.7311\n",
      "Epoch 34/100\n",
      "804/804 [==============================] - 1s 624us/step - loss: 0.5515 - accuracy: 0.7311\n",
      "Epoch 35/100\n",
      "792/804 [============================>.] - ETA: 0s - loss: 0.5509 - accuracy: 0.7320\n",
      "Epoch 35: saving model to checkpoints/weights.35.hdf5\n",
      "804/804 [==============================] - 1s 642us/step - loss: 0.5511 - accuracy: 0.7318\n",
      "Epoch 36/100\n",
      "804/804 [==============================] - 1s 626us/step - loss: 0.5514 - accuracy: 0.7324\n",
      "Epoch 37/100\n",
      "804/804 [==============================] - 1s 654us/step - loss: 0.5515 - accuracy: 0.7315\n",
      "Epoch 38/100\n",
      "804/804 [==============================] - 1s 651us/step - loss: 0.5513 - accuracy: 0.7318\n",
      "Epoch 39/100\n",
      "804/804 [==============================] - 1s 652us/step - loss: 0.5512 - accuracy: 0.7318\n",
      "Epoch 40/100\n",
      "774/804 [===========================>..] - ETA: 0s - loss: 0.5504 - accuracy: 0.7323\n",
      "Epoch 40: saving model to checkpoints/weights.40.hdf5\n",
      "804/804 [==============================] - 1s 658us/step - loss: 0.5508 - accuracy: 0.7319\n",
      "Epoch 41/100\n",
      "804/804 [==============================] - 1s 629us/step - loss: 0.5508 - accuracy: 0.7324\n",
      "Epoch 42/100\n",
      "804/804 [==============================] - 1s 632us/step - loss: 0.5510 - accuracy: 0.7320\n",
      "Epoch 43/100\n",
      "804/804 [==============================] - 1s 642us/step - loss: 0.5507 - accuracy: 0.7323\n",
      "Epoch 44/100\n",
      "804/804 [==============================] - 1s 652us/step - loss: 0.5506 - accuracy: 0.7327\n",
      "Epoch 45/100\n",
      "735/804 [==========================>...] - ETA: 0s - loss: 0.5509 - accuracy: 0.7319\n",
      "Epoch 45: saving model to checkpoints/weights.45.hdf5\n",
      "804/804 [==============================] - 1s 698us/step - loss: 0.5506 - accuracy: 0.7320\n",
      "Epoch 46/100\n",
      "804/804 [==============================] - 1s 647us/step - loss: 0.5504 - accuracy: 0.7324\n",
      "Epoch 47/100\n",
      "804/804 [==============================] - 1s 728us/step - loss: 0.5505 - accuracy: 0.7317\n",
      "Epoch 48/100\n",
      "804/804 [==============================] - 1s 623us/step - loss: 0.5506 - accuracy: 0.7320\n",
      "Epoch 49/100\n",
      "804/804 [==============================] - 1s 669us/step - loss: 0.5503 - accuracy: 0.7325\n",
      "Epoch 50/100\n",
      "772/804 [===========================>..] - ETA: 0s - loss: 0.5500 - accuracy: 0.7325\n",
      "Epoch 50: saving model to checkpoints/weights.50.hdf5\n",
      "804/804 [==============================] - 1s 659us/step - loss: 0.5503 - accuracy: 0.7320\n",
      "Epoch 51/100\n",
      "804/804 [==============================] - 1s 637us/step - loss: 0.5503 - accuracy: 0.7326\n",
      "Epoch 52/100\n",
      "804/804 [==============================] - 1s 634us/step - loss: 0.5504 - accuracy: 0.7320\n",
      "Epoch 53/100\n",
      "804/804 [==============================] - 1s 631us/step - loss: 0.5501 - accuracy: 0.7333\n",
      "Epoch 54/100\n",
      "804/804 [==============================] - 1s 629us/step - loss: 0.5498 - accuracy: 0.7325\n",
      "Epoch 55/100\n",
      "804/804 [==============================] - ETA: 0s - loss: 0.5501 - accuracy: 0.7327\n",
      "Epoch 55: saving model to checkpoints/weights.55.hdf5\n",
      "804/804 [==============================] - 1s 632us/step - loss: 0.5501 - accuracy: 0.7327\n",
      "Epoch 56/100\n",
      "804/804 [==============================] - 1s 633us/step - loss: 0.5497 - accuracy: 0.7327\n",
      "Epoch 57/100\n",
      "804/804 [==============================] - 1s 622us/step - loss: 0.5501 - accuracy: 0.7334\n",
      "Epoch 58/100\n",
      "804/804 [==============================] - 1s 646us/step - loss: 0.5499 - accuracy: 0.7325\n",
      "Epoch 59/100\n",
      "804/804 [==============================] - 1s 653us/step - loss: 0.5498 - accuracy: 0.7319\n",
      "Epoch 60/100\n",
      "801/804 [============================>.] - ETA: 0s - loss: 0.5502 - accuracy: 0.7326\n",
      "Epoch 60: saving model to checkpoints/weights.60.hdf5\n",
      "804/804 [==============================] - 1s 634us/step - loss: 0.5499 - accuracy: 0.7329\n",
      "Epoch 61/100\n",
      "804/804 [==============================] - 1s 629us/step - loss: 0.5499 - accuracy: 0.7329\n",
      "Epoch 62/100\n",
      "804/804 [==============================] - 1s 640us/step - loss: 0.5497 - accuracy: 0.7323\n",
      "Epoch 63/100\n",
      "804/804 [==============================] - 1s 635us/step - loss: 0.5498 - accuracy: 0.7324\n",
      "Epoch 64/100\n",
      "804/804 [==============================] - 1s 635us/step - loss: 0.5496 - accuracy: 0.7324\n",
      "Epoch 65/100\n",
      "739/804 [==========================>...] - ETA: 0s - loss: 0.5498 - accuracy: 0.7325\n",
      "Epoch 65: saving model to checkpoints/weights.65.hdf5\n",
      "804/804 [==============================] - 1s 690us/step - loss: 0.5497 - accuracy: 0.7327\n",
      "Epoch 66/100\n",
      "804/804 [==============================] - 1s 674us/step - loss: 0.5494 - accuracy: 0.7321\n",
      "Epoch 67/100\n",
      "804/804 [==============================] - 1s 639us/step - loss: 0.5497 - accuracy: 0.7327\n",
      "Epoch 68/100\n",
      "804/804 [==============================] - 1s 627us/step - loss: 0.5495 - accuracy: 0.7328\n",
      "Epoch 69/100\n",
      "804/804 [==============================] - 1s 648us/step - loss: 0.5495 - accuracy: 0.7325\n",
      "Epoch 70/100\n",
      "778/804 [============================>.] - ETA: 0s - loss: 0.5506 - accuracy: 0.7312\n",
      "Epoch 70: saving model to checkpoints/weights.70.hdf5\n",
      "804/804 [==============================] - 1s 654us/step - loss: 0.5493 - accuracy: 0.7325\n",
      "Epoch 71/100\n",
      "804/804 [==============================] - 0s 614us/step - loss: 0.5495 - accuracy: 0.7322\n",
      "Epoch 72/100\n",
      "804/804 [==============================] - 1s 657us/step - loss: 0.5494 - accuracy: 0.7326\n",
      "Epoch 73/100\n",
      "804/804 [==============================] - 1s 654us/step - loss: 0.5492 - accuracy: 0.7331\n",
      "Epoch 74/100\n",
      "804/804 [==============================] - 1s 643us/step - loss: 0.5493 - accuracy: 0.7322\n",
      "Epoch 75/100\n",
      "779/804 [============================>.] - ETA: 0s - loss: 0.5501 - accuracy: 0.7324\n",
      "Epoch 75: saving model to checkpoints/weights.75.hdf5\n",
      "804/804 [==============================] - 1s 651us/step - loss: 0.5494 - accuracy: 0.7331\n",
      "Epoch 76/100\n",
      "804/804 [==============================] - 1s 649us/step - loss: 0.5491 - accuracy: 0.7327\n",
      "Epoch 77/100\n",
      "804/804 [==============================] - 1s 646us/step - loss: 0.5490 - accuracy: 0.7331\n",
      "Epoch 78/100\n",
      "804/804 [==============================] - 0s 618us/step - loss: 0.5489 - accuracy: 0.7331\n",
      "Epoch 79/100\n",
      "804/804 [==============================] - 1s 631us/step - loss: 0.5493 - accuracy: 0.7327\n",
      "Epoch 80/100\n",
      "728/804 [==========================>...] - ETA: 0s - loss: 0.5492 - accuracy: 0.7331\n",
      "Epoch 80: saving model to checkpoints/weights.80.hdf5\n",
      "804/804 [==============================] - 1s 630us/step - loss: 0.5490 - accuracy: 0.7333\n",
      "Epoch 81/100\n",
      "804/804 [==============================] - 1s 640us/step - loss: 0.5490 - accuracy: 0.7329\n",
      "Epoch 82/100\n",
      "804/804 [==============================] - 1s 653us/step - loss: 0.5490 - accuracy: 0.7329\n",
      "Epoch 83/100\n",
      "804/804 [==============================] - 1s 649us/step - loss: 0.5489 - accuracy: 0.7334\n",
      "Epoch 84/100\n",
      "804/804 [==============================] - 1s 644us/step - loss: 0.5489 - accuracy: 0.7335\n",
      "Epoch 85/100\n",
      "774/804 [===========================>..] - ETA: 0s - loss: 0.5491 - accuracy: 0.7326\n",
      "Epoch 85: saving model to checkpoints/weights.85.hdf5\n",
      "804/804 [==============================] - 1s 664us/step - loss: 0.5490 - accuracy: 0.7326\n",
      "Epoch 86/100\n",
      "804/804 [==============================] - 1s 655us/step - loss: 0.5487 - accuracy: 0.7322\n",
      "Epoch 87/100\n",
      "804/804 [==============================] - 1s 629us/step - loss: 0.5486 - accuracy: 0.7335\n",
      "Epoch 88/100\n",
      "804/804 [==============================] - 1s 637us/step - loss: 0.5486 - accuracy: 0.7328\n",
      "Epoch 89/100\n",
      "804/804 [==============================] - 1s 666us/step - loss: 0.5488 - accuracy: 0.7323\n",
      "Epoch 90/100\n",
      "803/804 [============================>.] - ETA: 0s - loss: 0.5488 - accuracy: 0.7325\n",
      "Epoch 90: saving model to checkpoints/weights.90.hdf5\n",
      "804/804 [==============================] - 1s 634us/step - loss: 0.5488 - accuracy: 0.7325\n",
      "Epoch 91/100\n",
      "804/804 [==============================] - 1s 639us/step - loss: 0.5486 - accuracy: 0.7319\n",
      "Epoch 92/100\n",
      "804/804 [==============================] - 1s 634us/step - loss: 0.5485 - accuracy: 0.7326\n",
      "Epoch 93/100\n",
      "804/804 [==============================] - 1s 623us/step - loss: 0.5484 - accuracy: 0.7320\n",
      "Epoch 94/100\n",
      "804/804 [==============================] - 1s 650us/step - loss: 0.5485 - accuracy: 0.7329\n",
      "Epoch 95/100\n",
      "785/804 [============================>.] - ETA: 0s - loss: 0.5487 - accuracy: 0.7330\n",
      "Epoch 95: saving model to checkpoints/weights.95.hdf5\n",
      "804/804 [==============================] - 1s 648us/step - loss: 0.5483 - accuracy: 0.7333\n",
      "Epoch 96/100\n",
      "804/804 [==============================] - 1s 659us/step - loss: 0.5482 - accuracy: 0.7328\n",
      "Epoch 97/100\n",
      "804/804 [==============================] - 1s 641us/step - loss: 0.5483 - accuracy: 0.7322\n",
      "Epoch 98/100\n",
      "804/804 [==============================] - 1s 645us/step - loss: 0.5482 - accuracy: 0.7335\n",
      "Epoch 99/100\n",
      "804/804 [==============================] - 1s 644us/step - loss: 0.5478 - accuracy: 0.7328\n",
      "Epoch 100/100\n",
      "789/804 [============================>.] - ETA: 0s - loss: 0.5483 - accuracy: 0.7337\n",
      "Epoch 100: saving model to checkpoints/weights.100.hdf5\n",
      "804/804 [==============================] - 1s 643us/step - loss: 0.5482 - accuracy: 0.7339\n"
     ]
    }
   ],
   "source": [
    "number_input_features = len(X_train[0])\n",
    "hidden_nodes_layer1 = 8\n",
    "hidden_nodes_layer2 = 5\n",
    "\n",
    "nn = tf.keras.models.Sequential()\n",
    "\n",
    "# First hidden layer\n",
    "nn.add(\n",
    "    tf.keras.layers.Dense(units=hidden_nodes_layer1, input_dim=number_input_features, activation=\"relu\")\n",
    ")\n",
    "\n",
    "# Second hidden layer\n",
    "nn.add(tf.keras.layers.Dense(units=hidden_nodes_layer2, activation=\"relu\"))\n",
    "\n",
    "# Output layer\n",
    "nn.add(tf.keras.layers.Dense(units=1, activation=\"sigmoid\"))\n",
    "\n",
    "nn.compile(loss=\"binary_crossentropy\", optimizer=\"adam\", metrics=[\"accuracy\"])\n",
    "\n",
    "fit_model = nn.fit(X_train_scaled,y_train,epochs=100,callbacks=[cp_callback])"
   ],
   "metadata": {
    "collapsed": false,
    "pycharm": {
     "name": "#%%\n"
    }
   }
  },
  {
   "cell_type": "code",
   "execution_count": 17,
   "outputs": [
    {
     "name": "stdout",
     "output_type": "stream",
     "text": [
      "268/268 - 0s - loss: 0.5548 - accuracy: 0.7303 - 186ms/epoch - 694us/step\n",
      "Loss: 0.5548056364059448, Accuracy: 0.7302623987197876\n"
     ]
    }
   ],
   "source": [
    "model_loss, model_accuracy = nn.evaluate(X_test_scaled,y_test,verbose=2)\n",
    "print(f\"Loss: {model_loss}, Accuracy: {model_accuracy}\")"
   ],
   "metadata": {
    "collapsed": false,
    "pycharm": {
     "name": "#%%\n"
    }
   }
  },
  {
   "cell_type": "code",
   "execution_count": null,
   "outputs": [],
   "source": [
    "nn.save(\"AlphabetSoupCharity_Optimization.h5\")"
   ],
   "metadata": {
    "collapsed": false,
    "pycharm": {
     "name": "#%%\n"
    }
   }
  },
  {
   "cell_type": "code",
   "execution_count": 18,
   "outputs": [
    {
     "name": "stdout",
     "output_type": "stream",
     "text": [
      "Model: \"sequential_2\"\n",
      "_________________________________________________________________\n",
      " Layer (type)                Output Shape              Param #   \n",
      "=================================================================\n",
      " dense_6 (Dense)             (None, 8)                 296       \n",
      "                                                                 \n",
      " dense_7 (Dense)             (None, 5)                 45        \n",
      "                                                                 \n",
      " dense_8 (Dense)             (None, 1)                 6         \n",
      "                                                                 \n",
      "=================================================================\n",
      "Total params: 347\n",
      "Trainable params: 347\n",
      "Non-trainable params: 0\n",
      "_________________________________________________________________\n"
     ]
    }
   ],
   "source": [
    "nn.summary()"
   ],
   "metadata": {
    "collapsed": false,
    "pycharm": {
     "name": "#%%\n"
    }
   }
  }
 ],
 "metadata": {
  "kernelspec": {
   "display_name": "Python 3",
   "language": "python",
   "name": "python3"
  },
  "language_info": {
   "codemirror_mode": {
    "name": "ipython",
    "version": 2
   },
   "file_extension": ".py",
   "mimetype": "text/x-python",
   "name": "python",
   "nbconvert_exporter": "python",
   "pygments_lexer": "ipython2",
   "version": "2.7.6"
  }
 },
 "nbformat": 4,
 "nbformat_minor": 0
}